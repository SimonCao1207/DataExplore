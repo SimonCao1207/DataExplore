{
 "cells": [
  {
   "cell_type": "code",
   "execution_count": 1,
   "metadata": {},
   "outputs": [],
   "source": [
    "import pandas as pd\n",
    "import numpy as np\n",
    "import seaborn as sns\n",
    "import matplotlib.pyplot as plt\n",
    "plt.style.use('dark_background')\n",
    "from numpy.random import random\n"
   ]
  },
  {
   "cell_type": "markdown",
   "metadata": {},
   "source": [
    "## Load and Preprocessing data"
   ]
  },
  {
   "cell_type": "code",
   "execution_count": 2,
   "metadata": {},
   "outputs": [
    {
     "name": "stdout",
     "output_type": "stream",
     "text": [
      "7214\n"
     ]
    },
    {
     "data": {
      "text/html": [
       "<div>\n",
       "<style scoped>\n",
       "    .dataframe tbody tr th:only-of-type {\n",
       "        vertical-align: middle;\n",
       "    }\n",
       "\n",
       "    .dataframe tbody tr th {\n",
       "        vertical-align: top;\n",
       "    }\n",
       "\n",
       "    .dataframe thead th {\n",
       "        text-align: right;\n",
       "    }\n",
       "</style>\n",
       "<table border=\"1\" class=\"dataframe\">\n",
       "  <thead>\n",
       "    <tr style=\"text-align: right;\">\n",
       "      <th></th>\n",
       "      <th>id</th>\n",
       "      <th>name</th>\n",
       "      <th>first</th>\n",
       "      <th>last</th>\n",
       "      <th>compas_screening_date</th>\n",
       "      <th>sex</th>\n",
       "      <th>dob</th>\n",
       "      <th>age</th>\n",
       "      <th>age_cat</th>\n",
       "      <th>race</th>\n",
       "      <th>...</th>\n",
       "      <th>v_decile_score</th>\n",
       "      <th>v_score_text</th>\n",
       "      <th>v_screening_date</th>\n",
       "      <th>in_custody</th>\n",
       "      <th>out_custody</th>\n",
       "      <th>priors_count.1</th>\n",
       "      <th>start</th>\n",
       "      <th>end</th>\n",
       "      <th>event</th>\n",
       "      <th>two_year_recid</th>\n",
       "    </tr>\n",
       "  </thead>\n",
       "  <tbody>\n",
       "    <tr>\n",
       "      <th>0</th>\n",
       "      <td>1</td>\n",
       "      <td>miguel hernandez</td>\n",
       "      <td>miguel</td>\n",
       "      <td>hernandez</td>\n",
       "      <td>2013-08-14</td>\n",
       "      <td>Male</td>\n",
       "      <td>1947-04-18</td>\n",
       "      <td>69</td>\n",
       "      <td>Greater than 45</td>\n",
       "      <td>Other</td>\n",
       "      <td>...</td>\n",
       "      <td>1</td>\n",
       "      <td>Low</td>\n",
       "      <td>2013-08-14</td>\n",
       "      <td>2014-07-07</td>\n",
       "      <td>2014-07-14</td>\n",
       "      <td>0</td>\n",
       "      <td>0</td>\n",
       "      <td>327</td>\n",
       "      <td>0</td>\n",
       "      <td>0</td>\n",
       "    </tr>\n",
       "    <tr>\n",
       "      <th>1</th>\n",
       "      <td>3</td>\n",
       "      <td>kevon dixon</td>\n",
       "      <td>kevon</td>\n",
       "      <td>dixon</td>\n",
       "      <td>2013-01-27</td>\n",
       "      <td>Male</td>\n",
       "      <td>1982-01-22</td>\n",
       "      <td>34</td>\n",
       "      <td>25 - 45</td>\n",
       "      <td>African-American</td>\n",
       "      <td>...</td>\n",
       "      <td>1</td>\n",
       "      <td>Low</td>\n",
       "      <td>2013-01-27</td>\n",
       "      <td>2013-01-26</td>\n",
       "      <td>2013-02-05</td>\n",
       "      <td>0</td>\n",
       "      <td>9</td>\n",
       "      <td>159</td>\n",
       "      <td>1</td>\n",
       "      <td>1</td>\n",
       "    </tr>\n",
       "    <tr>\n",
       "      <th>2</th>\n",
       "      <td>4</td>\n",
       "      <td>ed philo</td>\n",
       "      <td>ed</td>\n",
       "      <td>philo</td>\n",
       "      <td>2013-04-14</td>\n",
       "      <td>Male</td>\n",
       "      <td>1991-05-14</td>\n",
       "      <td>24</td>\n",
       "      <td>Less than 25</td>\n",
       "      <td>African-American</td>\n",
       "      <td>...</td>\n",
       "      <td>3</td>\n",
       "      <td>Low</td>\n",
       "      <td>2013-04-14</td>\n",
       "      <td>2013-06-16</td>\n",
       "      <td>2013-06-16</td>\n",
       "      <td>4</td>\n",
       "      <td>0</td>\n",
       "      <td>63</td>\n",
       "      <td>0</td>\n",
       "      <td>1</td>\n",
       "    </tr>\n",
       "    <tr>\n",
       "      <th>3</th>\n",
       "      <td>5</td>\n",
       "      <td>marcu brown</td>\n",
       "      <td>marcu</td>\n",
       "      <td>brown</td>\n",
       "      <td>2013-01-13</td>\n",
       "      <td>Male</td>\n",
       "      <td>1993-01-21</td>\n",
       "      <td>23</td>\n",
       "      <td>Less than 25</td>\n",
       "      <td>African-American</td>\n",
       "      <td>...</td>\n",
       "      <td>6</td>\n",
       "      <td>Medium</td>\n",
       "      <td>2013-01-13</td>\n",
       "      <td>NaN</td>\n",
       "      <td>NaN</td>\n",
       "      <td>1</td>\n",
       "      <td>0</td>\n",
       "      <td>1174</td>\n",
       "      <td>0</td>\n",
       "      <td>0</td>\n",
       "    </tr>\n",
       "    <tr>\n",
       "      <th>4</th>\n",
       "      <td>6</td>\n",
       "      <td>bouthy pierrelouis</td>\n",
       "      <td>bouthy</td>\n",
       "      <td>pierrelouis</td>\n",
       "      <td>2013-03-26</td>\n",
       "      <td>Male</td>\n",
       "      <td>1973-01-22</td>\n",
       "      <td>43</td>\n",
       "      <td>25 - 45</td>\n",
       "      <td>Other</td>\n",
       "      <td>...</td>\n",
       "      <td>1</td>\n",
       "      <td>Low</td>\n",
       "      <td>2013-03-26</td>\n",
       "      <td>NaN</td>\n",
       "      <td>NaN</td>\n",
       "      <td>2</td>\n",
       "      <td>0</td>\n",
       "      <td>1102</td>\n",
       "      <td>0</td>\n",
       "      <td>0</td>\n",
       "    </tr>\n",
       "  </tbody>\n",
       "</table>\n",
       "<p>5 rows × 53 columns</p>\n",
       "</div>"
      ],
      "text/plain": [
       "   id                name   first         last compas_screening_date   sex  \\\n",
       "0   1    miguel hernandez  miguel    hernandez            2013-08-14  Male   \n",
       "1   3         kevon dixon   kevon        dixon            2013-01-27  Male   \n",
       "2   4            ed philo      ed        philo            2013-04-14  Male   \n",
       "3   5         marcu brown   marcu        brown            2013-01-13  Male   \n",
       "4   6  bouthy pierrelouis  bouthy  pierrelouis            2013-03-26  Male   \n",
       "\n",
       "          dob  age          age_cat              race  ...  v_decile_score  \\\n",
       "0  1947-04-18   69  Greater than 45             Other  ...               1   \n",
       "1  1982-01-22   34          25 - 45  African-American  ...               1   \n",
       "2  1991-05-14   24     Less than 25  African-American  ...               3   \n",
       "3  1993-01-21   23     Less than 25  African-American  ...               6   \n",
       "4  1973-01-22   43          25 - 45             Other  ...               1   \n",
       "\n",
       "   v_score_text  v_screening_date  in_custody  out_custody  priors_count.1  \\\n",
       "0           Low        2013-08-14  2014-07-07   2014-07-14               0   \n",
       "1           Low        2013-01-27  2013-01-26   2013-02-05               0   \n",
       "2           Low        2013-04-14  2013-06-16   2013-06-16               4   \n",
       "3        Medium        2013-01-13         NaN          NaN               1   \n",
       "4           Low        2013-03-26         NaN          NaN               2   \n",
       "\n",
       "  start   end event two_year_recid  \n",
       "0     0   327     0              0  \n",
       "1     9   159     1              1  \n",
       "2     0    63     0              1  \n",
       "3     0  1174     0              0  \n",
       "4     0  1102     0              0  \n",
       "\n",
       "[5 rows x 53 columns]"
      ]
     },
     "execution_count": 2,
     "metadata": {},
     "output_type": "execute_result"
    }
   ],
   "source": [
    "df = pd.read_csv(\"data/compas_data/compas-scores-two-years.csv\")\n",
    "print(len(df))\n",
    "df.head()"
   ]
  },
  {
   "cell_type": "code",
   "execution_count": 3,
   "metadata": {},
   "outputs": [
    {
     "data": {
      "text/html": [
       "<div>\n",
       "<style scoped>\n",
       "    .dataframe tbody tr th:only-of-type {\n",
       "        vertical-align: middle;\n",
       "    }\n",
       "\n",
       "    .dataframe tbody tr th {\n",
       "        vertical-align: top;\n",
       "    }\n",
       "\n",
       "    .dataframe thead th {\n",
       "        text-align: right;\n",
       "    }\n",
       "</style>\n",
       "<table border=\"1\" class=\"dataframe\">\n",
       "  <thead>\n",
       "    <tr style=\"text-align: right;\">\n",
       "      <th></th>\n",
       "      <th>id</th>\n",
       "      <th>name</th>\n",
       "      <th>first</th>\n",
       "      <th>last</th>\n",
       "      <th>compas_screening_date</th>\n",
       "      <th>sex</th>\n",
       "      <th>dob</th>\n",
       "      <th>age</th>\n",
       "      <th>age_cat</th>\n",
       "      <th>race</th>\n",
       "      <th>...</th>\n",
       "      <th>v_decile_score</th>\n",
       "      <th>v_score_text</th>\n",
       "      <th>v_screening_date</th>\n",
       "      <th>in_custody</th>\n",
       "      <th>out_custody</th>\n",
       "      <th>priors_count.1</th>\n",
       "      <th>start</th>\n",
       "      <th>end</th>\n",
       "      <th>event</th>\n",
       "      <th>two_year_recid</th>\n",
       "    </tr>\n",
       "  </thead>\n",
       "  <tbody>\n",
       "    <tr>\n",
       "      <th>0</th>\n",
       "      <td>1</td>\n",
       "      <td>miguel hernandez</td>\n",
       "      <td>miguel</td>\n",
       "      <td>hernandez</td>\n",
       "      <td>2013-08-14</td>\n",
       "      <td>Male</td>\n",
       "      <td>1947-04-18</td>\n",
       "      <td>69</td>\n",
       "      <td>Greater than 45</td>\n",
       "      <td>Other</td>\n",
       "      <td>...</td>\n",
       "      <td>1</td>\n",
       "      <td>Low</td>\n",
       "      <td>2013-08-14</td>\n",
       "      <td>2014-07-07</td>\n",
       "      <td>2014-07-14</td>\n",
       "      <td>0</td>\n",
       "      <td>0</td>\n",
       "      <td>327</td>\n",
       "      <td>0</td>\n",
       "      <td>0</td>\n",
       "    </tr>\n",
       "    <tr>\n",
       "      <th>1</th>\n",
       "      <td>3</td>\n",
       "      <td>kevon dixon</td>\n",
       "      <td>kevon</td>\n",
       "      <td>dixon</td>\n",
       "      <td>2013-01-27</td>\n",
       "      <td>Male</td>\n",
       "      <td>1982-01-22</td>\n",
       "      <td>34</td>\n",
       "      <td>25 - 45</td>\n",
       "      <td>African-American</td>\n",
       "      <td>...</td>\n",
       "      <td>1</td>\n",
       "      <td>Low</td>\n",
       "      <td>2013-01-27</td>\n",
       "      <td>2013-01-26</td>\n",
       "      <td>2013-02-05</td>\n",
       "      <td>0</td>\n",
       "      <td>9</td>\n",
       "      <td>159</td>\n",
       "      <td>1</td>\n",
       "      <td>1</td>\n",
       "    </tr>\n",
       "    <tr>\n",
       "      <th>2</th>\n",
       "      <td>4</td>\n",
       "      <td>ed philo</td>\n",
       "      <td>ed</td>\n",
       "      <td>philo</td>\n",
       "      <td>2013-04-14</td>\n",
       "      <td>Male</td>\n",
       "      <td>1991-05-14</td>\n",
       "      <td>24</td>\n",
       "      <td>Less than 25</td>\n",
       "      <td>African-American</td>\n",
       "      <td>...</td>\n",
       "      <td>3</td>\n",
       "      <td>Low</td>\n",
       "      <td>2013-04-14</td>\n",
       "      <td>2013-06-16</td>\n",
       "      <td>2013-06-16</td>\n",
       "      <td>4</td>\n",
       "      <td>0</td>\n",
       "      <td>63</td>\n",
       "      <td>0</td>\n",
       "      <td>1</td>\n",
       "    </tr>\n",
       "    <tr>\n",
       "      <th>5</th>\n",
       "      <td>7</td>\n",
       "      <td>marsha miles</td>\n",
       "      <td>marsha</td>\n",
       "      <td>miles</td>\n",
       "      <td>2013-11-30</td>\n",
       "      <td>Male</td>\n",
       "      <td>1971-08-22</td>\n",
       "      <td>44</td>\n",
       "      <td>25 - 45</td>\n",
       "      <td>Other</td>\n",
       "      <td>...</td>\n",
       "      <td>1</td>\n",
       "      <td>Low</td>\n",
       "      <td>2013-11-30</td>\n",
       "      <td>2013-11-30</td>\n",
       "      <td>2013-12-01</td>\n",
       "      <td>0</td>\n",
       "      <td>1</td>\n",
       "      <td>853</td>\n",
       "      <td>0</td>\n",
       "      <td>0</td>\n",
       "    </tr>\n",
       "    <tr>\n",
       "      <th>6</th>\n",
       "      <td>8</td>\n",
       "      <td>edward riddle</td>\n",
       "      <td>edward</td>\n",
       "      <td>riddle</td>\n",
       "      <td>2014-02-19</td>\n",
       "      <td>Male</td>\n",
       "      <td>1974-07-23</td>\n",
       "      <td>41</td>\n",
       "      <td>25 - 45</td>\n",
       "      <td>Caucasian</td>\n",
       "      <td>...</td>\n",
       "      <td>2</td>\n",
       "      <td>Low</td>\n",
       "      <td>2014-02-19</td>\n",
       "      <td>2014-03-31</td>\n",
       "      <td>2014-04-18</td>\n",
       "      <td>14</td>\n",
       "      <td>5</td>\n",
       "      <td>40</td>\n",
       "      <td>1</td>\n",
       "      <td>1</td>\n",
       "    </tr>\n",
       "  </tbody>\n",
       "</table>\n",
       "<p>5 rows × 53 columns</p>\n",
       "</div>"
      ],
      "text/plain": [
       "   id              name   first       last compas_screening_date   sex  \\\n",
       "0   1  miguel hernandez  miguel  hernandez            2013-08-14  Male   \n",
       "1   3       kevon dixon   kevon      dixon            2013-01-27  Male   \n",
       "2   4          ed philo      ed      philo            2013-04-14  Male   \n",
       "5   7      marsha miles  marsha      miles            2013-11-30  Male   \n",
       "6   8     edward riddle  edward     riddle            2014-02-19  Male   \n",
       "\n",
       "          dob  age          age_cat              race  ...  v_decile_score  \\\n",
       "0  1947-04-18   69  Greater than 45             Other  ...               1   \n",
       "1  1982-01-22   34          25 - 45  African-American  ...               1   \n",
       "2  1991-05-14   24     Less than 25  African-American  ...               3   \n",
       "5  1971-08-22   44          25 - 45             Other  ...               1   \n",
       "6  1974-07-23   41          25 - 45         Caucasian  ...               2   \n",
       "\n",
       "   v_score_text  v_screening_date  in_custody  out_custody  priors_count.1  \\\n",
       "0           Low        2013-08-14  2014-07-07   2014-07-14               0   \n",
       "1           Low        2013-01-27  2013-01-26   2013-02-05               0   \n",
       "2           Low        2013-04-14  2013-06-16   2013-06-16               4   \n",
       "5           Low        2013-11-30  2013-11-30   2013-12-01               0   \n",
       "6           Low        2014-02-19  2014-03-31   2014-04-18              14   \n",
       "\n",
       "  start  end event two_year_recid  \n",
       "0     0  327     0              0  \n",
       "1     9  159     1              1  \n",
       "2     0   63     0              1  \n",
       "5     1  853     0              0  \n",
       "6     5   40     1              1  \n",
       "\n",
       "[5 rows x 53 columns]"
      ]
     },
     "execution_count": 3,
     "metadata": {},
     "output_type": "execute_result"
    }
   ],
   "source": [
    "# Filtering \n",
    "\n",
    "ndf = df[(df.days_b_screening_arrest <= 30)\n",
    "            & (df.days_b_screening_arrest >= -30)\n",
    "            & (df.is_recid != -1)\n",
    "            & (df.c_charge_degree != 'O')\n",
    "            & (df.score_text != 'N/A')\n",
    "            ]\n",
    "ndf.head()\n"
   ]
  },
  {
   "cell_type": "markdown",
   "metadata": {},
   "source": [
    "Calculate length of stay based on time jail-in and jail-out. \n",
    "\n",
    "Higher COMPAS scores are slightly correlated with a longer length of stay."
   ]
  },
  {
   "cell_type": "code",
   "execution_count": 4,
   "metadata": {},
   "outputs": [
    {
     "name": "stdout",
     "output_type": "stream",
     "text": [
      "Correlation btw length of stay and decile score 0.2074107615030343\n"
     ]
    }
   ],
   "source": [
    "cols = ['age', 'c_charge_degree', 'race', 'age_cat', 'score_text', \n",
    "                    'sex', 'priors_count', 'days_b_screening_arrest', 'decile_score', \n",
    "                    'is_recid', 'two_year_recid', 'c_jail_in', 'c_jail_out']\n",
    "ndf = ndf[cols]\n",
    "ndf[\"length_of_stay\"] = pd.to_datetime(ndf[\"c_jail_out\"])- pd.to_datetime(ndf[\"c_jail_in\"])\n",
    "ndf.length_of_stay = ndf.length_of_stay.astype('timedelta64[h]') # Convert to hours\n",
    "\n",
    "print(\"Correlation btw length of stay and decile score\", ndf[\"decile_score\"].corr(ndf[\"length_of_stay\"]))"
   ]
  },
  {
   "cell_type": "markdown",
   "metadata": {},
   "source": [
    "Notice some error within the decile score. "
   ]
  },
  {
   "cell_type": "code",
   "execution_count": 43,
   "metadata": {},
   "outputs": [
    {
     "name": "stdout",
     "output_type": "stream",
     "text": [
      "score error ratio = 16.493843162670125\n"
     ]
    }
   ],
   "source": [
    "ndf[['score_text', 'decile_score', 'two_year_recid']].head(20)\n",
    "ratio_miss = len(ndf[( (ndf['score_text'] == \"High\") | (ndf[\"score_text\"] == \"Medium\") ) & \n",
    "                 (ndf[\"two_year_recid\"] == 0) ])/ len(ndf)\n",
    "print(\"score error ratio =\", ratio_miss*100)"
   ]
  },
  {
   "cell_type": "markdown",
   "metadata": {},
   "source": [
    "Make sure there are no NaN values"
   ]
  },
  {
   "cell_type": "code",
   "execution_count": 6,
   "metadata": {},
   "outputs": [
    {
     "name": "stdout",
     "output_type": "stream",
     "text": [
      "<class 'pandas.core.frame.DataFrame'>\n",
      "Int64Index: 6172 entries, 0 to 7213\n",
      "Data columns (total 14 columns):\n",
      " #   Column                   Non-Null Count  Dtype  \n",
      "---  ------                   --------------  -----  \n",
      " 0   age                      6172 non-null   int64  \n",
      " 1   c_charge_degree          6172 non-null   object \n",
      " 2   race                     6172 non-null   object \n",
      " 3   age_cat                  6172 non-null   object \n",
      " 4   score_text               6172 non-null   object \n",
      " 5   sex                      6172 non-null   object \n",
      " 6   priors_count             6172 non-null   int64  \n",
      " 7   days_b_screening_arrest  6172 non-null   float64\n",
      " 8   decile_score             6172 non-null   int64  \n",
      " 9   is_recid                 6172 non-null   int64  \n",
      " 10  two_year_recid           6172 non-null   int64  \n",
      " 11  c_jail_in                6172 non-null   object \n",
      " 12  c_jail_out               6172 non-null   object \n",
      " 13  length_of_stay           6172 non-null   float64\n",
      "dtypes: float64(2), int64(5), object(7)\n",
      "memory usage: 723.3+ KB\n"
     ]
    }
   ],
   "source": [
    "# There are no NaN values. Good\n",
    "ndf.info()"
   ]
  },
  {
   "cell_type": "markdown",
   "metadata": {},
   "source": [
    "## EDA"
   ]
  },
  {
   "cell_type": "markdown",
   "metadata": {},
   "source": [
    "25-45 is the most frequent range of age."
   ]
  },
  {
   "cell_type": "code",
   "execution_count": 7,
   "metadata": {},
   "outputs": [
    {
     "data": {
      "image/png": "[encoded data removed]",
      "text/plain": [
       "<Figure size 432x288 with 1 Axes>"
      ]
     },
     "metadata": {},
     "output_type": "display_data"
    },
    {
     "data": {
      "text/plain": [
       "25 - 45            3532\n",
       "Less than 25       1347\n",
       "Greater than 45    1293\n",
       "Name: age_cat, dtype: int64"
      ]
     },
     "execution_count": 7,
     "metadata": {},
     "output_type": "execute_result"
    }
   ],
   "source": [
    "ax = sns.histplot(data=ndf[\"age_cat\"], discrete=True, shrink=0.8)\n",
    "plt.show()\n",
    "\n",
    "ndf[\"age_cat\"].value_counts()"
   ]
  },
  {
   "cell_type": "markdown",
   "metadata": {},
   "source": [
    "African-American people accounts for a large proportion in terms of race."
   ]
  },
  {
   "cell_type": "code",
   "execution_count": 8,
   "metadata": {},
   "outputs": [
    {
     "data": {
      "image/png": "[encoded data removed]",
      "text/plain": [
       "<Figure size 576x288 with 1 Axes>"
      ]
     },
     "metadata": {},
     "output_type": "display_data"
    },
    {
     "data": {
      "text/plain": [
       "African-American    3175\n",
       "Caucasian           2103\n",
       "Hispanic             509\n",
       "Other                343\n",
       "Asian                 31\n",
       "Native American       11\n",
       "Name: race, dtype: int64"
      ]
     },
     "execution_count": 8,
     "metadata": {},
     "output_type": "execute_result"
    }
   ],
   "source": [
    "plt.figure(figsize=(8,4)) # this creates a figure 8 inch wide, 4 inch high\n",
    "sns.histplot(data=ndf[\"race\"], discrete=True, shrink=0.8)\n",
    "plt.show()\n",
    "\n",
    "ndf[\"race\"].value_counts()\n"
   ]
  },
  {
   "cell_type": "code",
   "execution_count": 9,
   "metadata": {},
   "outputs": [
    {
     "name": "stdout",
     "output_type": "stream",
     "text": [
      "Black defendants: 51.44%\n",
      "White defendants: 34.07%\n",
      "Hispanic defendants: 8.25%\n",
      "Asian defendants: 0.50%\n",
      "Native American defendants: 0.18%\n"
     ]
    }
   ],
   "source": [
    "print(\"Black defendants: %.2f%%\" %            (3175 / 6172 * 100))\n",
    "print(\"White defendants: %.2f%%\" %            (2103 / 6172 * 100))\n",
    "print(\"Hispanic defendants: %.2f%%\" %         (509  / 6172 * 100))\n",
    "print(\"Asian defendants: %.2f%%\" %            (31   / 6172 * 100))\n",
    "print(\"Native American defendants: %.2f%%\" %  (11   / 6172 * 100))"
   ]
  },
  {
   "cell_type": "code",
   "execution_count": 10,
   "metadata": {},
   "outputs": [
    {
     "name": "stdout",
     "output_type": "stream",
     "text": [
      "Men: 80.96%\n",
      "Women: 19.04%\n"
     ]
    },
    {
     "data": {
      "text/plain": [
       "Male      4997\n",
       "Female    1175\n",
       "Name: sex, dtype: int64"
      ]
     },
     "execution_count": 10,
     "metadata": {},
     "output_type": "execute_result"
    }
   ],
   "source": [
    "print(\"Men: %.2f%%\" %   (4997 / 6172 * 100))\n",
    "print(\"Women: %.2f%%\" % (1175 / 6172 * 100))\n",
    "ndf[\"sex\"].value_counts()\n"
   ]
  },
  {
   "cell_type": "code",
   "execution_count": 11,
   "metadata": {},
   "outputs": [
    {
     "name": "stdout",
     "output_type": "stream",
     "text": [
      "Recidivism rate  45.51 %\n"
     ]
    }
   ],
   "source": [
    "c = len(ndf[ndf[\"two_year_recid\"] == 1]) / len(ndf) * 100\n",
    "print(f\"Recidivism rate  {round(c,2)} %\")"
   ]
  },
  {
   "cell_type": "code",
   "execution_count": 12,
   "metadata": {},
   "outputs": [
    {
     "data": {
      "text/plain": [
       "array([ 1,  3,  4,  6, 10,  5,  9,  2,  7,  8])"
      ]
     },
     "execution_count": 12,
     "metadata": {},
     "output_type": "execute_result"
    }
   ],
   "source": [
    "ndf[\"decile_score\"].unique()"
   ]
  },
  {
   "cell_type": "markdown",
   "metadata": {},
   "source": [
    "There is a clear downward trend in the decile scores as those scores increase for white defendants."
   ]
  },
  {
   "cell_type": "code",
   "execution_count": 13,
   "metadata": {},
   "outputs": [
    {
     "data": {
      "image/png": "[encoded data removed]",
      "text/plain": [
       "<Figure size 576x288 with 2 Axes>"
      ]
     },
     "metadata": {},
     "output_type": "display_data"
    }
   ],
   "source": [
    "pblack = ndf[ndf[\"race\"] == \"African-American\"]\n",
    "pwhite = ndf[ndf[\"race\"] == \"Caucasian\"]\n",
    "fig, ax = plt.subplots(1,2, figsize=(8,4))\n",
    "f1 = sns.histplot(pblack, x=\"decile_score\", discrete=False, binwidth=1, ax=ax[0])\n",
    "f1.set_xlabel(\"Decile Score\")\n",
    "f1.set(ylim=(0,650))\n",
    "f1.set_title(\"Black Defendant's Decile Scores\")\n",
    "\n",
    "f2 = sns.histplot(pwhite, x=\"decile_score\", discrete=False, binwidth=1, ax=ax[1])\n",
    "f2.set_xlabel(\"Decile Score\")\n",
    "f2.set_yticks([])\n",
    "f2.set_ylabel(\"\")\n",
    "f2.set(ylim=(0,650))\n",
    "f2.set_title(\"White Defendant's Decile Scores\")\n",
    "plt.show()"
   ]
  },
  {
   "cell_type": "code",
   "execution_count": 14,
   "metadata": {},
   "outputs": [
    {
     "data": {
      "text/html": [
       "<div>\n",
       "<style scoped>\n",
       "    .dataframe tbody tr th:only-of-type {\n",
       "        vertical-align: middle;\n",
       "    }\n",
       "\n",
       "    .dataframe tbody tr th {\n",
       "        vertical-align: top;\n",
       "    }\n",
       "\n",
       "    .dataframe thead th {\n",
       "        text-align: right;\n",
       "    }\n",
       "</style>\n",
       "<table border=\"1\" class=\"dataframe\">\n",
       "  <thead>\n",
       "    <tr style=\"text-align: right;\">\n",
       "      <th>race</th>\n",
       "      <th>African-American</th>\n",
       "      <th>Asian</th>\n",
       "      <th>Caucasian</th>\n",
       "      <th>Hispanic</th>\n",
       "      <th>Native American</th>\n",
       "      <th>Other</th>\n",
       "    </tr>\n",
       "    <tr>\n",
       "      <th>decile_score</th>\n",
       "      <th></th>\n",
       "      <th></th>\n",
       "      <th></th>\n",
       "      <th></th>\n",
       "      <th></th>\n",
       "      <th></th>\n",
       "    </tr>\n",
       "  </thead>\n",
       "  <tbody>\n",
       "    <tr>\n",
       "      <th>1</th>\n",
       "      <td>365</td>\n",
       "      <td>15</td>\n",
       "      <td>605</td>\n",
       "      <td>159</td>\n",
       "      <td>0</td>\n",
       "      <td>142</td>\n",
       "    </tr>\n",
       "    <tr>\n",
       "      <th>2</th>\n",
       "      <td>346</td>\n",
       "      <td>4</td>\n",
       "      <td>321</td>\n",
       "      <td>89</td>\n",
       "      <td>2</td>\n",
       "      <td>60</td>\n",
       "    </tr>\n",
       "    <tr>\n",
       "      <th>3</th>\n",
       "      <td>298</td>\n",
       "      <td>5</td>\n",
       "      <td>238</td>\n",
       "      <td>73</td>\n",
       "      <td>1</td>\n",
       "      <td>32</td>\n",
       "    </tr>\n",
       "    <tr>\n",
       "      <th>4</th>\n",
       "      <td>337</td>\n",
       "      <td>0</td>\n",
       "      <td>243</td>\n",
       "      <td>47</td>\n",
       "      <td>0</td>\n",
       "      <td>39</td>\n",
       "    </tr>\n",
       "    <tr>\n",
       "      <th>5</th>\n",
       "      <td>323</td>\n",
       "      <td>1</td>\n",
       "      <td>200</td>\n",
       "      <td>39</td>\n",
       "      <td>0</td>\n",
       "      <td>19</td>\n",
       "    </tr>\n",
       "    <tr>\n",
       "      <th>6</th>\n",
       "      <td>318</td>\n",
       "      <td>2</td>\n",
       "      <td>160</td>\n",
       "      <td>27</td>\n",
       "      <td>2</td>\n",
       "      <td>20</td>\n",
       "    </tr>\n",
       "    <tr>\n",
       "      <th>7</th>\n",
       "      <td>343</td>\n",
       "      <td>1</td>\n",
       "      <td>113</td>\n",
       "      <td>28</td>\n",
       "      <td>2</td>\n",
       "      <td>9</td>\n",
       "    </tr>\n",
       "    <tr>\n",
       "      <th>8</th>\n",
       "      <td>301</td>\n",
       "      <td>2</td>\n",
       "      <td>96</td>\n",
       "      <td>14</td>\n",
       "      <td>0</td>\n",
       "      <td>7</td>\n",
       "    </tr>\n",
       "    <tr>\n",
       "      <th>9</th>\n",
       "      <td>317</td>\n",
       "      <td>0</td>\n",
       "      <td>77</td>\n",
       "      <td>17</td>\n",
       "      <td>2</td>\n",
       "      <td>7</td>\n",
       "    </tr>\n",
       "    <tr>\n",
       "      <th>10</th>\n",
       "      <td>227</td>\n",
       "      <td>1</td>\n",
       "      <td>50</td>\n",
       "      <td>16</td>\n",
       "      <td>2</td>\n",
       "      <td>8</td>\n",
       "    </tr>\n",
       "  </tbody>\n",
       "</table>\n",
       "</div>"
      ],
      "text/plain": [
       "race          African-American  Asian  Caucasian  Hispanic  Native American  \\\n",
       "decile_score                                                                  \n",
       "1                          365     15        605       159                0   \n",
       "2                          346      4        321        89                2   \n",
       "3                          298      5        238        73                1   \n",
       "4                          337      0        243        47                0   \n",
       "5                          323      1        200        39                0   \n",
       "6                          318      2        160        27                2   \n",
       "7                          343      1        113        28                2   \n",
       "8                          301      2         96        14                0   \n",
       "9                          317      0         77        17                2   \n",
       "10                         227      1         50        16                2   \n",
       "\n",
       "race          Other  \n",
       "decile_score         \n",
       "1               142  \n",
       "2                60  \n",
       "3                32  \n",
       "4                39  \n",
       "5                19  \n",
       "6                20  \n",
       "7                 9  \n",
       "8                 7  \n",
       "9                 7  \n",
       "10                8  "
      ]
     },
     "execution_count": 14,
     "metadata": {},
     "output_type": "execute_result"
    }
   ],
   "source": [
    "pd.crosstab(ndf[\"decile_score\"], ndf[\"race\"])"
   ]
  },
  {
   "cell_type": "markdown",
   "metadata": {},
   "source": [
    "### Racial Bias in Compas\n",
    "After filtering out bad rows, our first question is whether there is a significant difference in Compas scores between races. To do so we need to change some variables into factors, and run a logistic regression, comparing low scores to high scores."
   ]
  },
  {
   "cell_type": "code",
   "execution_count": 15,
   "metadata": {},
   "outputs": [],
   "source": [
    "from sklearn.linear_model import LogisticRegression\n",
    "\n",
    "lr = LogisticRegression(solver='lbfgs', max_iter=1000)\n"
   ]
  },
  {
   "cell_type": "code",
   "execution_count": 16,
   "metadata": {},
   "outputs": [
    {
     "data": {
      "text/plain": [
       "LogisticRegression(max_iter=1000)"
      ]
     },
     "execution_count": 16,
     "metadata": {},
     "output_type": "execute_result"
    }
   ],
   "source": [
    "df_crime = pd.get_dummies(ndf['c_charge_degree'],prefix='crimefactor',drop_first=True)\n",
    "df_age = pd.get_dummies(ndf['age_cat'],prefix='age')\n",
    "df_race = pd.get_dummies(ndf['race'],prefix='race')\n",
    "df_gender = pd.get_dummies(ndf['sex'] != \"Male\", prefix='sex',drop_first=True)\n",
    "df_score = pd.get_dummies(ndf['score_text'] != 'Low',prefix='score_factor',drop_first=True)\n",
    "\n",
    "df_lr = pd.concat([df_crime, df_age, df_race, df_gender,\n",
    "                    ndf[\"priors_count\"], ndf[\"two_year_recid\"]], axis=1)\n",
    "\n",
    "lr.fit(df_lr, df_score.values.ravel())"
   ]
  },
  {
   "cell_type": "code",
   "execution_count": 17,
   "metadata": {},
   "outputs": [],
   "source": [
    "cols = np.concatenate([df_crime.columns.values, \n",
    "                df_age.columns.values,\n",
    "                df_race.columns.values,\n",
    "                [\"sex_Female\"],\n",
    "                ['priors_count'],\n",
    "                ['two_year_recid']\n",
    "               ])\n"
   ]
  },
  {
   "cell_type": "code",
   "execution_count": 18,
   "metadata": {},
   "outputs": [
    {
     "name": "stdout",
     "output_type": "stream",
     "text": [
      "-1.548 (Intercept)\n",
      "-0.310 crimefactor_M\n",
      "0.014 age_25 - 45\n",
      "-1.331 age_Greater than 45\n",
      "1.316 age_Less than 25\n",
      "0.488 race_African-American\n",
      "-0.199 race_Asian\n",
      "0.011 race_Caucasian\n",
      "-0.411 race_Hispanic\n",
      "0.905 race_Native American\n",
      "-0.795 race_Other\n",
      "0.219 sex_Female\n",
      "0.268 priors_count\n",
      "0.683 two_year_recid\n"
     ]
    }
   ],
   "source": [
    "assert len(cols) == len(lr.coef_[0])\n",
    "print('%.3f' % lr.intercept_, '(Intercept)') \n",
    "for i,j in zip(cols, lr.coef_[0]): print('%.3f' % j, i)"
   ]
  },
  {
   "cell_type": "markdown",
   "metadata": {},
   "source": [
    "Black defendants are 45% more likely than white defendants to receive a higher score"
   ]
  },
  {
   "cell_type": "code",
   "execution_count": 19,
   "metadata": {},
   "outputs": [
    {
     "name": "stdout",
     "output_type": "stream",
     "text": [
      "Black defendants: 1.4672\n"
     ]
    }
   ],
   "source": [
    "control = np.exp(-1.548) / (1 + np.exp(-1.548))\n",
    "black_odds = np.exp(0.488) / (1 - control + (control * np.exp(0.488)))\n",
    "\n",
    "print('Black defendants: %.4f' % black_odds)"
   ]
  },
  {
   "cell_type": "markdown",
   "metadata": {},
   "source": [
    "Women are 19.3% more likely than men to get a higher score."
   ]
  },
  {
   "cell_type": "code",
   "execution_count": 20,
   "metadata": {},
   "outputs": [
    {
     "name": "stdout",
     "output_type": "stream",
     "text": [
      "Female defendants: 1.1936\n"
     ]
    }
   ],
   "source": [
    "female_odds = np.exp(0.219) / (1 - control + (control * np.exp(0.219)))\n",
    "print(\"Female defendants: %.4f\" % female_odds)"
   ]
  },
  {
   "cell_type": "markdown",
   "metadata": {},
   "source": [
    "Most surprisingly, people under 25 are 2.5 times as likely to get a higher score as middle aged defendants."
   ]
  },
  {
   "cell_type": "code",
   "execution_count": 21,
   "metadata": {},
   "outputs": [
    {
     "name": "stdout",
     "output_type": "stream",
     "text": [
      "Under 25 defendents: 2.5218\n"
     ]
    }
   ],
   "source": [
    "under25_odds = np.exp(1.316) / (1 - control + (control * np.exp(1.316)))\n",
    "print(\"Under 25 defendents: %.4f\" % under25_odds)"
   ]
  },
  {
   "cell_type": "markdown",
   "metadata": {},
   "source": [
    "### Feature Engineering"
   ]
  },
  {
   "cell_type": "code",
   "execution_count": 22,
   "metadata": {},
   "outputs": [
    {
     "name": "stdout",
     "output_type": "stream",
     "text": [
      "0.02932598833441348\n"
     ]
    }
   ],
   "source": [
    "if not (ndf['is_recid'].equals(ndf['two_year_recid'])):\n",
    "    not_eq = ndf[ndf['is_recid'] != ndf['two_year_recid']]\n",
    "    print(len(not_eq) / len(ndf)) # Why is this happening ? \n"
   ]
  },
  {
   "cell_type": "code",
   "execution_count": 23,
   "metadata": {},
   "outputs": [
    {
     "data": {
      "text/plain": [
       "Index(['age', 'c_charge_degree', 'race', 'age_cat', 'score_text', 'sex',\n",
       "       'priors_count', 'days_b_screening_arrest', 'decile_score', 'is_recid',\n",
       "       'two_year_recid', 'c_jail_in', 'c_jail_out', 'length_of_stay'],\n",
       "      dtype='object')"
      ]
     },
     "execution_count": 23,
     "metadata": {},
     "output_type": "execute_result"
    }
   ],
   "source": [
    "ndf.columns"
   ]
  },
  {
   "cell_type": "code",
   "execution_count": 24,
   "metadata": {},
   "outputs": [],
   "source": [
    "\n",
    "categorical = [\"race\", \"sex\", \"c_charge_degree\"]\n",
    "\n",
    "feature_to_keep = [ 'age',\n",
    "                    'c_charge_degree',\n",
    "                    'race',\n",
    "                    'sex',\n",
    "                    'priors_count',\n",
    "                    'days_b_screening_arrest',\n",
    "                    'two_year_recid',\n",
    "                    'length_of_stay'\n",
    "                    ]\n",
    "nndf = ndf[feature_to_keep]\n",
    "\n",
    "# Setting feature vector and target vector.\n",
    "X = nndf.drop([\"two_year_recid\"], axis=1)\n",
    "y  = nndf['two_year_recid']\n",
    "\n",
    "# Splitting the data\n",
    "from sklearn.model_selection import train_test_split\n",
    "X_train, X_test, y_train, y_test = train_test_split(X, y, test_size=0.3, random_state=0)\n"
   ]
  },
  {
   "cell_type": "code",
   "execution_count": 25,
   "metadata": {},
   "outputs": [],
   "source": [
    "from sklearn.preprocessing import LabelEncoder, StandardScaler\n",
    "\n",
    "# Encoded categorical variabels\n",
    "for feat in categorical:\n",
    "    le = LabelEncoder()\n",
    "    X_train[feat] = le.fit_transform(X_train[feat])\n",
    "    X_test[feat] = le.transform(X_test[feat])\n",
    "\n",
    "# Feature Scalling\n",
    "\n",
    "scaler = StandardScaler()\n",
    "X_train = pd.DataFrame(scaler.fit_transform(X_train), columns = X.columns)\n",
    "X_test = pd.DataFrame(scaler.fit_transform(X_test), columns = X.columns)"
   ]
  },
  {
   "cell_type": "code",
   "execution_count": 26,
   "metadata": {},
   "outputs": [
    {
     "data": {
      "text/html": [
       "<div>\n",
       "<style scoped>\n",
       "    .dataframe tbody tr th:only-of-type {\n",
       "        vertical-align: middle;\n",
       "    }\n",
       "\n",
       "    .dataframe tbody tr th {\n",
       "        vertical-align: top;\n",
       "    }\n",
       "\n",
       "    .dataframe thead th {\n",
       "        text-align: right;\n",
       "    }\n",
       "</style>\n",
       "<table border=\"1\" class=\"dataframe\">\n",
       "  <thead>\n",
       "    <tr style=\"text-align: right;\">\n",
       "      <th></th>\n",
       "      <th>age</th>\n",
       "      <th>c_charge_degree</th>\n",
       "      <th>race</th>\n",
       "      <th>sex</th>\n",
       "      <th>priors_count</th>\n",
       "      <th>days_b_screening_arrest</th>\n",
       "      <th>length_of_stay</th>\n",
       "    </tr>\n",
       "  </thead>\n",
       "  <tbody>\n",
       "    <tr>\n",
       "      <th>0</th>\n",
       "      <td>1.228043</td>\n",
       "      <td>1.351749</td>\n",
       "      <td>0.541924</td>\n",
       "      <td>0.487670</td>\n",
       "      <td>-0.472233</td>\n",
       "      <td>-4.753046</td>\n",
       "      <td>-0.308548</td>\n",
       "    </tr>\n",
       "    <tr>\n",
       "      <th>1</th>\n",
       "      <td>0.463098</td>\n",
       "      <td>1.351749</td>\n",
       "      <td>-0.852010</td>\n",
       "      <td>-2.050566</td>\n",
       "      <td>0.159882</td>\n",
       "      <td>0.140089</td>\n",
       "      <td>-0.301340</td>\n",
       "    </tr>\n",
       "    <tr>\n",
       "      <th>2</th>\n",
       "      <td>-1.236778</td>\n",
       "      <td>1.351749</td>\n",
       "      <td>0.541924</td>\n",
       "      <td>0.487670</td>\n",
       "      <td>-0.682938</td>\n",
       "      <td>0.140089</td>\n",
       "      <td>-0.309449</td>\n",
       "    </tr>\n",
       "    <tr>\n",
       "      <th>3</th>\n",
       "      <td>-0.726815</td>\n",
       "      <td>-0.739782</td>\n",
       "      <td>0.541924</td>\n",
       "      <td>0.487670</td>\n",
       "      <td>-0.472233</td>\n",
       "      <td>0.140089</td>\n",
       "      <td>-0.311251</td>\n",
       "    </tr>\n",
       "    <tr>\n",
       "      <th>4</th>\n",
       "      <td>1.143049</td>\n",
       "      <td>-0.739782</td>\n",
       "      <td>0.541924</td>\n",
       "      <td>0.487670</td>\n",
       "      <td>-0.472233</td>\n",
       "      <td>0.140089</td>\n",
       "      <td>2.462003</td>\n",
       "    </tr>\n",
       "  </tbody>\n",
       "</table>\n",
       "</div>"
      ],
      "text/plain": [
       "        age  c_charge_degree      race       sex  priors_count  \\\n",
       "0  1.228043         1.351749  0.541924  0.487670     -0.472233   \n",
       "1  0.463098         1.351749 -0.852010 -2.050566      0.159882   \n",
       "2 -1.236778         1.351749  0.541924  0.487670     -0.682938   \n",
       "3 -0.726815        -0.739782  0.541924  0.487670     -0.472233   \n",
       "4  1.143049        -0.739782  0.541924  0.487670     -0.472233   \n",
       "\n",
       "   days_b_screening_arrest  length_of_stay  \n",
       "0                -4.753046       -0.308548  \n",
       "1                 0.140089       -0.301340  \n",
       "2                 0.140089       -0.309449  \n",
       "3                 0.140089       -0.311251  \n",
       "4                 0.140089        2.462003  "
      ]
     },
     "execution_count": 26,
     "metadata": {},
     "output_type": "execute_result"
    }
   ],
   "source": [
    "X_train.head()"
   ]
  },
  {
   "cell_type": "code",
   "execution_count": 27,
   "metadata": {},
   "outputs": [
    {
     "name": "stdout",
     "output_type": "stream",
     "text": [
      "Logistic Regression acc score with all the features 0.6792656587473002\n"
     ]
    }
   ],
   "source": [
    "#  Logistic Regression model with all features\n",
    "\n",
    "from sklearn.linear_model import  LogisticRegression\n",
    "from sklearn.metrics import accuracy_score\n",
    "\n",
    "lg = LogisticRegression()\n",
    "lg.fit(X_train, y_train)\n",
    "y_pred = lg.predict(X_test)\n",
    "\n",
    "print(f\"Logistic Regression acc score with all the features {accuracy_score(y_test, y_pred)}\")"
   ]
  },
  {
   "cell_type": "markdown",
   "metadata": {},
   "source": [
    "I do the PCA to see if we can drop any features but seems like all features are required."
   ]
  },
  {
   "cell_type": "code",
   "execution_count": 28,
   "metadata": {},
   "outputs": [
    {
     "name": "stdout",
     "output_type": "stream",
     "text": [
      "The number of dimensions required to preserve 90% of variance is 6\n"
     ]
    },
    {
     "data": {
      "text/plain": [
       "array([0.21499654, 0.16457643, 0.14292459, 0.13587826, 0.13224767,\n",
       "       0.11703297, 0.09234355])"
      ]
     },
     "execution_count": 28,
     "metadata": {},
     "output_type": "execute_result"
    }
   ],
   "source": [
    "from sklearn.decomposition import PCA\n",
    "pca = PCA()\n",
    "X_train = pca.fit_transform(X_train)\n",
    "\n",
    "cumsum = np.cumsum(pca.explained_variance_ratio_)\n",
    "dim = np.argmax(cumsum >= 0.90) + 1\n",
    "print('The number of dimensions required to preserve 90% of variance is',dim)\n",
    "\n",
    "pca.explained_variance_ratio_\n"
   ]
  },
  {
   "cell_type": "markdown",
   "metadata": {},
   "source": [
    "Let's try to drop the last features with the least value of explained_variance_ratio"
   ]
  },
  {
   "cell_type": "code",
   "execution_count": 29,
   "metadata": {},
   "outputs": [
    {
     "name": "stdout",
     "output_type": "stream",
     "text": [
      "Logistic Regression acc score with the first 6 features 0.67170626349892\n"
     ]
    }
   ],
   "source": [
    "\n",
    "X_trial = nndf.drop(['length_of_stay', 'two_year_recid'], axis=1)\n",
    "y_trial  = nndf['two_year_recid']\n",
    "\n",
    "X_train, X_test, y_train, y_test = train_test_split(X_trial, y_trial, test_size = 0.3, random_state = 0)\n",
    "\n",
    "for feature in categorical:\n",
    "        le = LabelEncoder()\n",
    "        X_train[feature] = le.fit_transform(X_train[feature])\n",
    "        X_test[feature] = le.transform(X_test[feature])\n",
    "\n",
    "\n",
    "X_train = pd.DataFrame(scaler.fit_transform(X_train), columns = X_trial.columns)\n",
    "\n",
    "X_test = pd.DataFrame(scaler.transform(X_test), columns = X_trial.columns)\n",
    "\n",
    "lg = LogisticRegression()\n",
    "lg.fit(X_train, y_train)\n",
    "y_pred = lg.predict(X_test)\n",
    "\n",
    "print(f\"Logistic Regression acc score with the first 6 features {accuracy_score(y_test, y_pred)}\")\n",
    "\n"
   ]
  },
  {
   "cell_type": "markdown",
   "metadata": {},
   "source": [
    "The accuracy seems to not improve and got worse. Therefore, we might should keep all the features"
   ]
  },
  {
   "cell_type": "markdown",
   "metadata": {},
   "source": [
    "## Save npy file for X, y"
   ]
  },
  {
   "cell_type": "code",
   "execution_count": 30,
   "metadata": {},
   "outputs": [],
   "source": [
    "# Setting feature vector and target vector.\n",
    "X = nndf.drop([\"two_year_recid\"], axis=1)\n",
    "y  = nndf['two_year_recid']"
   ]
  },
  {
   "cell_type": "code",
   "execution_count": 31,
   "metadata": {},
   "outputs": [
    {
     "data": {
      "text/html": [
       "<div>\n",
       "<style scoped>\n",
       "    .dataframe tbody tr th:only-of-type {\n",
       "        vertical-align: middle;\n",
       "    }\n",
       "\n",
       "    .dataframe tbody tr th {\n",
       "        vertical-align: top;\n",
       "    }\n",
       "\n",
       "    .dataframe thead th {\n",
       "        text-align: right;\n",
       "    }\n",
       "</style>\n",
       "<table border=\"1\" class=\"dataframe\">\n",
       "  <thead>\n",
       "    <tr style=\"text-align: right;\">\n",
       "      <th></th>\n",
       "      <th>age</th>\n",
       "      <th>c_charge_degree</th>\n",
       "      <th>race</th>\n",
       "      <th>sex</th>\n",
       "      <th>priors_count</th>\n",
       "      <th>days_b_screening_arrest</th>\n",
       "      <th>length_of_stay</th>\n",
       "    </tr>\n",
       "  </thead>\n",
       "  <tbody>\n",
       "    <tr>\n",
       "      <th>0</th>\n",
       "      <td>69</td>\n",
       "      <td>F</td>\n",
       "      <td>Other</td>\n",
       "      <td>Male</td>\n",
       "      <td>0</td>\n",
       "      <td>-1.0</td>\n",
       "      <td>23.0</td>\n",
       "    </tr>\n",
       "    <tr>\n",
       "      <th>1</th>\n",
       "      <td>34</td>\n",
       "      <td>F</td>\n",
       "      <td>African-American</td>\n",
       "      <td>Male</td>\n",
       "      <td>0</td>\n",
       "      <td>-1.0</td>\n",
       "      <td>241.0</td>\n",
       "    </tr>\n",
       "    <tr>\n",
       "      <th>2</th>\n",
       "      <td>24</td>\n",
       "      <td>F</td>\n",
       "      <td>African-American</td>\n",
       "      <td>Male</td>\n",
       "      <td>4</td>\n",
       "      <td>-1.0</td>\n",
       "      <td>26.0</td>\n",
       "    </tr>\n",
       "    <tr>\n",
       "      <th>5</th>\n",
       "      <td>44</td>\n",
       "      <td>M</td>\n",
       "      <td>Other</td>\n",
       "      <td>Male</td>\n",
       "      <td>0</td>\n",
       "      <td>0.0</td>\n",
       "      <td>31.0</td>\n",
       "    </tr>\n",
       "    <tr>\n",
       "      <th>6</th>\n",
       "      <td>41</td>\n",
       "      <td>F</td>\n",
       "      <td>Caucasian</td>\n",
       "      <td>Male</td>\n",
       "      <td>14</td>\n",
       "      <td>-1.0</td>\n",
       "      <td>151.0</td>\n",
       "    </tr>\n",
       "  </tbody>\n",
       "</table>\n",
       "</div>"
      ],
      "text/plain": [
       "   age c_charge_degree              race   sex  priors_count  \\\n",
       "0   69               F             Other  Male             0   \n",
       "1   34               F  African-American  Male             0   \n",
       "2   24               F  African-American  Male             4   \n",
       "5   44               M             Other  Male             0   \n",
       "6   41               F         Caucasian  Male            14   \n",
       "\n",
       "   days_b_screening_arrest  length_of_stay  \n",
       "0                     -1.0            23.0  \n",
       "1                     -1.0           241.0  \n",
       "2                     -1.0            26.0  \n",
       "5                      0.0            31.0  \n",
       "6                     -1.0           151.0  "
      ]
     },
     "execution_count": 31,
     "metadata": {},
     "output_type": "execute_result"
    }
   ],
   "source": [
    "X.head()"
   ]
  },
  {
   "cell_type": "code",
   "execution_count": 32,
   "metadata": {},
   "outputs": [
    {
     "data": {
      "text/plain": [
       "0      -1\n",
       "1       1\n",
       "2       1\n",
       "5      -1\n",
       "6       1\n",
       "       ..\n",
       "7209   -1\n",
       "7210   -1\n",
       "7211   -1\n",
       "7212   -1\n",
       "7213    1\n",
       "Name: two_year_recid, Length: 6172, dtype: int64"
      ]
     },
     "execution_count": 32,
     "metadata": {},
     "output_type": "execute_result"
    }
   ],
   "source": [
    "pd.options.mode.chained_assignment = None\n",
    "\n",
    "# Change target y from 0 to -1\n",
    "y[y == 0] = -1\n",
    "y"
   ]
  },
  {
   "cell_type": "code",
   "execution_count": 33,
   "metadata": {},
   "outputs": [
    {
     "data": {
      "text/html": [
       "<div>\n",
       "<style scoped>\n",
       "    .dataframe tbody tr th:only-of-type {\n",
       "        vertical-align: middle;\n",
       "    }\n",
       "\n",
       "    .dataframe tbody tr th {\n",
       "        vertical-align: top;\n",
       "    }\n",
       "\n",
       "    .dataframe thead th {\n",
       "        text-align: right;\n",
       "    }\n",
       "</style>\n",
       "<table border=\"1\" class=\"dataframe\">\n",
       "  <thead>\n",
       "    <tr style=\"text-align: right;\">\n",
       "      <th></th>\n",
       "      <th>age</th>\n",
       "      <th>c_charge_degree</th>\n",
       "      <th>race</th>\n",
       "      <th>sex</th>\n",
       "      <th>priors_count</th>\n",
       "      <th>days_b_screening_arrest</th>\n",
       "      <th>length_of_stay</th>\n",
       "    </tr>\n",
       "  </thead>\n",
       "  <tbody>\n",
       "    <tr>\n",
       "      <th>0</th>\n",
       "      <td>69</td>\n",
       "      <td>F</td>\n",
       "      <td>Non-Caucasian</td>\n",
       "      <td>Male</td>\n",
       "      <td>0</td>\n",
       "      <td>-1.0</td>\n",
       "      <td>23.0</td>\n",
       "    </tr>\n",
       "    <tr>\n",
       "      <th>1</th>\n",
       "      <td>34</td>\n",
       "      <td>F</td>\n",
       "      <td>Non-Caucasian</td>\n",
       "      <td>Male</td>\n",
       "      <td>0</td>\n",
       "      <td>-1.0</td>\n",
       "      <td>241.0</td>\n",
       "    </tr>\n",
       "    <tr>\n",
       "      <th>2</th>\n",
       "      <td>24</td>\n",
       "      <td>F</td>\n",
       "      <td>Non-Caucasian</td>\n",
       "      <td>Male</td>\n",
       "      <td>4</td>\n",
       "      <td>-1.0</td>\n",
       "      <td>26.0</td>\n",
       "    </tr>\n",
       "    <tr>\n",
       "      <th>5</th>\n",
       "      <td>44</td>\n",
       "      <td>M</td>\n",
       "      <td>Non-Caucasian</td>\n",
       "      <td>Male</td>\n",
       "      <td>0</td>\n",
       "      <td>0.0</td>\n",
       "      <td>31.0</td>\n",
       "    </tr>\n",
       "    <tr>\n",
       "      <th>6</th>\n",
       "      <td>41</td>\n",
       "      <td>F</td>\n",
       "      <td>Caucasian</td>\n",
       "      <td>Male</td>\n",
       "      <td>14</td>\n",
       "      <td>-1.0</td>\n",
       "      <td>151.0</td>\n",
       "    </tr>\n",
       "  </tbody>\n",
       "</table>\n",
       "</div>"
      ],
      "text/plain": [
       "   age c_charge_degree           race   sex  priors_count  \\\n",
       "0   69               F  Non-Caucasian  Male             0   \n",
       "1   34               F  Non-Caucasian  Male             0   \n",
       "2   24               F  Non-Caucasian  Male             4   \n",
       "5   44               M  Non-Caucasian  Male             0   \n",
       "6   41               F      Caucasian  Male            14   \n",
       "\n",
       "   days_b_screening_arrest  length_of_stay  \n",
       "0                     -1.0            23.0  \n",
       "1                     -1.0           241.0  \n",
       "2                     -1.0            26.0  \n",
       "5                      0.0            31.0  \n",
       "6                     -1.0           151.0  "
      ]
     },
     "execution_count": 33,
     "metadata": {},
     "output_type": "execute_result"
    }
   ],
   "source": [
    "pd.options.mode.chained_assignment = None\n",
    "\n",
    "# Change race to only 2 groups 'Caucasian' and 'Non-Caucasian'\n",
    "X.loc[X.race != 'Caucasian', 'race'] = 'Non-Caucasian'\n",
    "X.head()"
   ]
  },
  {
   "cell_type": "code",
   "execution_count": 34,
   "metadata": {},
   "outputs": [],
   "source": [
    "categorical =  ['c_charge_degree', 'race', 'sex']\n",
    "for feat in categorical:\n",
    "    le = LabelEncoder()\n",
    "    X[feat] = le.fit_transform(X[feat])\n",
    "\n",
    "le = LabelEncoder()\n",
    "y = le.fit_transform(y)\n",
    "\n",
    "# Feature Scalling\n",
    "\n",
    "scaler = StandardScaler()\n",
    "X_train = pd.DataFrame(scaler.fit_transform(X), columns = X.columns)\n",
    "\n",
    "X_train_save = X_train.to_numpy()\n",
    "y[y == 0] = -1\n",
    "y_train_save = y\n",
    "sensitive_feat = X.race.to_numpy() # Choose race as sensitive feature\n",
    "s1_train = sensitive_feat\n",
    "\n",
    "\n",
    "np.save(\"data/compas_data/XS_compas.npy\", X_train_save)\n",
    "np.save(\"data/compas_data/y_compas.npy\", y_train_save)\n",
    "np.save(\"data/compas_data/s_compas.npy\", s1_train)"
   ]
  },
  {
   "cell_type": "code",
   "execution_count": 35,
   "metadata": {},
   "outputs": [
    {
     "data": {
      "text/plain": [
       "((6172, 7), (6172,), (6172,))"
      ]
     },
     "execution_count": 35,
     "metadata": {},
     "output_type": "execute_result"
    }
   ],
   "source": [
    "X_train_save.shape, y_train_save.shape, s1_train.shape"
   ]
  },
  {
   "cell_type": "code",
   "execution_count": 36,
   "metadata": {},
   "outputs": [
    {
     "data": {
      "text/html": [
       "<div>\n",
       "<style scoped>\n",
       "    .dataframe tbody tr th:only-of-type {\n",
       "        vertical-align: middle;\n",
       "    }\n",
       "\n",
       "    .dataframe tbody tr th {\n",
       "        vertical-align: top;\n",
       "    }\n",
       "\n",
       "    .dataframe thead th {\n",
       "        text-align: right;\n",
       "    }\n",
       "</style>\n",
       "<table border=\"1\" class=\"dataframe\">\n",
       "  <thead>\n",
       "    <tr style=\"text-align: right;\">\n",
       "      <th></th>\n",
       "      <th>age</th>\n",
       "      <th>c_charge_degree</th>\n",
       "      <th>race</th>\n",
       "      <th>sex</th>\n",
       "      <th>priors_count</th>\n",
       "      <th>days_b_screening_arrest</th>\n",
       "      <th>length_of_stay</th>\n",
       "    </tr>\n",
       "  </thead>\n",
       "  <tbody>\n",
       "    <tr>\n",
       "      <th>0</th>\n",
       "      <td>2.938237</td>\n",
       "      <td>-0.744755</td>\n",
       "      <td>0.718912</td>\n",
       "      <td>0.484913</td>\n",
       "      <td>-0.684413</td>\n",
       "      <td>0.145601</td>\n",
       "      <td>-0.302738</td>\n",
       "    </tr>\n",
       "    <tr>\n",
       "      <th>1</th>\n",
       "      <td>-0.045568</td>\n",
       "      <td>-0.744755</td>\n",
       "      <td>0.718912</td>\n",
       "      <td>0.484913</td>\n",
       "      <td>-0.684413</td>\n",
       "      <td>0.145601</td>\n",
       "      <td>-0.108157</td>\n",
       "    </tr>\n",
       "    <tr>\n",
       "      <th>2</th>\n",
       "      <td>-0.898084</td>\n",
       "      <td>-0.744755</td>\n",
       "      <td>0.718912</td>\n",
       "      <td>0.484913</td>\n",
       "      <td>0.158866</td>\n",
       "      <td>0.145601</td>\n",
       "      <td>-0.300060</td>\n",
       "    </tr>\n",
       "    <tr>\n",
       "      <th>3</th>\n",
       "      <td>0.806948</td>\n",
       "      <td>1.342724</td>\n",
       "      <td>0.718912</td>\n",
       "      <td>0.484913</td>\n",
       "      <td>-0.684413</td>\n",
       "      <td>0.342285</td>\n",
       "      <td>-0.295597</td>\n",
       "    </tr>\n",
       "    <tr>\n",
       "      <th>4</th>\n",
       "      <td>0.551193</td>\n",
       "      <td>-0.744755</td>\n",
       "      <td>-1.390991</td>\n",
       "      <td>0.484913</td>\n",
       "      <td>2.267065</td>\n",
       "      <td>0.145601</td>\n",
       "      <td>-0.188489</td>\n",
       "    </tr>\n",
       "    <tr>\n",
       "      <th>...</th>\n",
       "      <td>...</td>\n",
       "      <td>...</td>\n",
       "      <td>...</td>\n",
       "      <td>...</td>\n",
       "      <td>...</td>\n",
       "      <td>...</td>\n",
       "      <td>...</td>\n",
       "    </tr>\n",
       "    <tr>\n",
       "      <th>6167</th>\n",
       "      <td>-0.983335</td>\n",
       "      <td>-0.744755</td>\n",
       "      <td>0.718912</td>\n",
       "      <td>0.484913</td>\n",
       "      <td>-0.684413</td>\n",
       "      <td>0.145601</td>\n",
       "      <td>-0.283101</td>\n",
       "    </tr>\n",
       "    <tr>\n",
       "      <th>6168</th>\n",
       "      <td>-0.983335</td>\n",
       "      <td>-0.744755</td>\n",
       "      <td>0.718912</td>\n",
       "      <td>0.484913</td>\n",
       "      <td>-0.684413</td>\n",
       "      <td>0.145601</td>\n",
       "      <td>-0.283994</td>\n",
       "    </tr>\n",
       "    <tr>\n",
       "      <th>6169</th>\n",
       "      <td>1.915218</td>\n",
       "      <td>-0.744755</td>\n",
       "      <td>0.718912</td>\n",
       "      <td>0.484913</td>\n",
       "      <td>-0.684413</td>\n",
       "      <td>0.145601</td>\n",
       "      <td>-0.300060</td>\n",
       "    </tr>\n",
       "    <tr>\n",
       "      <th>6170</th>\n",
       "      <td>-0.130819</td>\n",
       "      <td>1.342724</td>\n",
       "      <td>0.718912</td>\n",
       "      <td>-2.062224</td>\n",
       "      <td>-0.051954</td>\n",
       "      <td>0.145601</td>\n",
       "      <td>-0.298275</td>\n",
       "    </tr>\n",
       "    <tr>\n",
       "      <th>6171</th>\n",
       "      <td>-0.983335</td>\n",
       "      <td>-0.744755</td>\n",
       "      <td>0.718912</td>\n",
       "      <td>-2.062224</td>\n",
       "      <td>-0.262773</td>\n",
       "      <td>-0.051083</td>\n",
       "      <td>-0.281316</td>\n",
       "    </tr>\n",
       "  </tbody>\n",
       "</table>\n",
       "<p>6172 rows × 7 columns</p>\n",
       "</div>"
      ],
      "text/plain": [
       "           age  c_charge_degree      race       sex  priors_count  \\\n",
       "0     2.938237        -0.744755  0.718912  0.484913     -0.684413   \n",
       "1    -0.045568        -0.744755  0.718912  0.484913     -0.684413   \n",
       "2    -0.898084        -0.744755  0.718912  0.484913      0.158866   \n",
       "3     0.806948         1.342724  0.718912  0.484913     -0.684413   \n",
       "4     0.551193        -0.744755 -1.390991  0.484913      2.267065   \n",
       "...        ...              ...       ...       ...           ...   \n",
       "6167 -0.983335        -0.744755  0.718912  0.484913     -0.684413   \n",
       "6168 -0.983335        -0.744755  0.718912  0.484913     -0.684413   \n",
       "6169  1.915218        -0.744755  0.718912  0.484913     -0.684413   \n",
       "6170 -0.130819         1.342724  0.718912 -2.062224     -0.051954   \n",
       "6171 -0.983335        -0.744755  0.718912 -2.062224     -0.262773   \n",
       "\n",
       "      days_b_screening_arrest  length_of_stay  \n",
       "0                    0.145601       -0.302738  \n",
       "1                    0.145601       -0.108157  \n",
       "2                    0.145601       -0.300060  \n",
       "3                    0.342285       -0.295597  \n",
       "4                    0.145601       -0.188489  \n",
       "...                       ...             ...  \n",
       "6167                 0.145601       -0.283101  \n",
       "6168                 0.145601       -0.283994  \n",
       "6169                 0.145601       -0.300060  \n",
       "6170                 0.145601       -0.298275  \n",
       "6171                -0.051083       -0.281316  \n",
       "\n",
       "[6172 rows x 7 columns]"
      ]
     },
     "execution_count": 36,
     "metadata": {},
     "output_type": "execute_result"
    }
   ],
   "source": [
    "X_train"
   ]
  },
  {
   "cell_type": "code",
   "execution_count": 37,
   "metadata": {},
   "outputs": [
    {
     "name": "stdout",
     "output_type": "stream",
     "text": [
      "{0, 1}\n",
      "{1, -1}\n"
     ]
    }
   ],
   "source": [
    "print(set(s1_train))\n",
    "\n",
    "print(set(y_train_save))"
   ]
  },
  {
   "cell_type": "markdown",
   "metadata": {},
   "source": [
    "## Poisoning data with label flipping\n",
    "\n",
    "For generation of poisoned data, we poison\n",
    "about 10% of the training data by flipping the labels of examples\n",
    "that belong to a specific z attribute (for this experiment z\n",
    "= 1) so as to maximize the accuracy performance degradation"
   ]
  },
  {
   "cell_type": "code",
   "execution_count": 38,
   "metadata": {},
   "outputs": [
    {
     "name": "stdout",
     "output_type": "stream",
     "text": [
      "Proportion of label flipping = 9.753726506804925 %\n"
     ]
    }
   ],
   "source": [
    "target_idx = X.index[ X['race'] == 1].tolist\n",
    "boolArr = (X['race'] == 1)\n",
    "y_poison = np.where((random(len(X)) > .85) & (boolArr), -y, y)\n",
    "print(f\"Proportion of label flipping = {100* sum(y_poison != y) / len(y)} %\")"
   ]
  },
  {
   "cell_type": "code",
   "execution_count": 39,
   "metadata": {},
   "outputs": [],
   "source": [
    "# Save y_poison\n",
    "\n",
    "np.save(\"data/compas_data/y_compas_poi.npy\", y_poison)"
   ]
  },
  {
   "cell_type": "code",
   "execution_count": 40,
   "metadata": {},
   "outputs": [
    {
     "data": {
      "text/html": [
       "<div>\n",
       "<style scoped>\n",
       "    .dataframe tbody tr th:only-of-type {\n",
       "        vertical-align: middle;\n",
       "    }\n",
       "\n",
       "    .dataframe tbody tr th {\n",
       "        vertical-align: top;\n",
       "    }\n",
       "\n",
       "    .dataframe thead th {\n",
       "        text-align: right;\n",
       "    }\n",
       "</style>\n",
       "<table border=\"1\" class=\"dataframe\">\n",
       "  <thead>\n",
       "    <tr style=\"text-align: right;\">\n",
       "      <th></th>\n",
       "      <th>age</th>\n",
       "      <th>c_charge_degree</th>\n",
       "      <th>race</th>\n",
       "      <th>sex</th>\n",
       "      <th>priors_count</th>\n",
       "      <th>days_b_screening_arrest</th>\n",
       "      <th>length_of_stay</th>\n",
       "    </tr>\n",
       "  </thead>\n",
       "  <tbody>\n",
       "    <tr>\n",
       "      <th>age</th>\n",
       "      <td>1.000000</td>\n",
       "      <td>0.101177</td>\n",
       "      <td>0.181182</td>\n",
       "      <td>0.008407</td>\n",
       "      <td>0.119773</td>\n",
       "      <td>0.068926</td>\n",
       "      <td>0.011775</td>\n",
       "    </tr>\n",
       "    <tr>\n",
       "      <th>c_charge_degree</th>\n",
       "      <td>0.101177</td>\n",
       "      <td>1.000000</td>\n",
       "      <td>0.077574</td>\n",
       "      <td>0.061848</td>\n",
       "      <td>0.145433</td>\n",
       "      <td>0.008043</td>\n",
       "      <td>0.109523</td>\n",
       "    </tr>\n",
       "    <tr>\n",
       "      <th>race</th>\n",
       "      <td>0.181182</td>\n",
       "      <td>0.077574</td>\n",
       "      <td>1.000000</td>\n",
       "      <td>0.071087</td>\n",
       "      <td>0.145093</td>\n",
       "      <td>0.071754</td>\n",
       "      <td>0.043683</td>\n",
       "    </tr>\n",
       "    <tr>\n",
       "      <th>sex</th>\n",
       "      <td>0.008407</td>\n",
       "      <td>0.061848</td>\n",
       "      <td>0.071087</td>\n",
       "      <td>1.000000</td>\n",
       "      <td>0.118722</td>\n",
       "      <td>0.030453</td>\n",
       "      <td>0.057005</td>\n",
       "    </tr>\n",
       "    <tr>\n",
       "      <th>priors_count</th>\n",
       "      <td>0.119773</td>\n",
       "      <td>0.145433</td>\n",
       "      <td>0.145093</td>\n",
       "      <td>0.118722</td>\n",
       "      <td>1.000000</td>\n",
       "      <td>0.021350</td>\n",
       "      <td>0.188967</td>\n",
       "    </tr>\n",
       "  </tbody>\n",
       "</table>\n",
       "</div>"
      ],
      "text/plain": [
       "                      age  c_charge_degree      race       sex  priors_count  \\\n",
       "age              1.000000         0.101177  0.181182  0.008407      0.119773   \n",
       "c_charge_degree  0.101177         1.000000  0.077574  0.061848      0.145433   \n",
       "race             0.181182         0.077574  1.000000  0.071087      0.145093   \n",
       "sex              0.008407         0.061848  0.071087  1.000000      0.118722   \n",
       "priors_count     0.119773         0.145433  0.145093  0.118722      1.000000   \n",
       "\n",
       "                 days_b_screening_arrest  length_of_stay  \n",
       "age                             0.068926        0.011775  \n",
       "c_charge_degree                 0.008043        0.109523  \n",
       "race                            0.071754        0.043683  \n",
       "sex                             0.030453        0.057005  \n",
       "priors_count                    0.021350        0.188967  "
      ]
     },
     "execution_count": 40,
     "metadata": {},
     "output_type": "execute_result"
    }
   ],
   "source": [
    "corr_matrix = X_train.corr().abs()\n",
    "corr_matrix.head()"
   ]
  }
 ],
 "metadata": {
  "interpreter": {
   "hash": "df0893f56f349688326838aaeea0de204df53a132722cbd565e54b24a8fec5f6"
  },
  "kernelspec": {
   "display_name": "Python 3.8.0 64-bit",
   "language": "python",
   "name": "python3"
  },
  "language_info": {
   "codemirror_mode": {
    "name": "ipython",
    "version": 3
   },
   "file_extension": ".py",
   "mimetype": "text/x-python",
   "name": "python",
   "nbconvert_exporter": "python",
   "pygments_lexer": "ipython3",
   "version": "3.8.0"
  },
  "orig_nbformat": 4
 },
 "nbformat": 4,
 "nbformat_minor": 2
}
