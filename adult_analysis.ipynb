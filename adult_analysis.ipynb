{
 "cells": [
  {
   "cell_type": "code",
   "execution_count": 288,
   "metadata": {},
   "outputs": [],
   "source": [
    "import pandas as pd\n",
    "import numpy as np\n",
    "import matplotlib.pyplot as plt\n",
    "plt.style.use('dark_background')\n",
    "\n",
    "from sklearn.preprocessing import StandardScaler, LabelEncoder"
   ]
  },
  {
   "cell_type": "code",
   "execution_count": 289,
   "metadata": {},
   "outputs": [
    {
     "data": {
      "text/html": [
       "<div>\n",
       "<style scoped>\n",
       "    .dataframe tbody tr th:only-of-type {\n",
       "        vertical-align: middle;\n",
       "    }\n",
       "\n",
       "    .dataframe tbody tr th {\n",
       "        vertical-align: top;\n",
       "    }\n",
       "\n",
       "    .dataframe thead th {\n",
       "        text-align: right;\n",
       "    }\n",
       "</style>\n",
       "<table border=\"1\" class=\"dataframe\">\n",
       "  <thead>\n",
       "    <tr style=\"text-align: right;\">\n",
       "      <th></th>\n",
       "      <th>age</th>\n",
       "      <th>workclass</th>\n",
       "      <th>fnlwgt</th>\n",
       "      <th>education</th>\n",
       "      <th>education-num</th>\n",
       "      <th>marital-status</th>\n",
       "      <th>occupation</th>\n",
       "      <th>relationship</th>\n",
       "      <th>race</th>\n",
       "      <th>sex</th>\n",
       "      <th>capital-gain</th>\n",
       "      <th>capital-loss</th>\n",
       "      <th>hours-per-week</th>\n",
       "      <th>native-country</th>\n",
       "      <th>target</th>\n",
       "    </tr>\n",
       "  </thead>\n",
       "  <tbody>\n",
       "    <tr>\n",
       "      <th>0</th>\n",
       "      <td>39</td>\n",
       "      <td>State-gov</td>\n",
       "      <td>77516</td>\n",
       "      <td>Bachelors</td>\n",
       "      <td>13</td>\n",
       "      <td>Never-married</td>\n",
       "      <td>Adm-clerical</td>\n",
       "      <td>Not-in-family</td>\n",
       "      <td>White</td>\n",
       "      <td>Male</td>\n",
       "      <td>2174</td>\n",
       "      <td>0</td>\n",
       "      <td>40</td>\n",
       "      <td>United-States</td>\n",
       "      <td>&lt;=50K</td>\n",
       "    </tr>\n",
       "    <tr>\n",
       "      <th>1</th>\n",
       "      <td>50</td>\n",
       "      <td>Self-emp-not-inc</td>\n",
       "      <td>83311</td>\n",
       "      <td>Bachelors</td>\n",
       "      <td>13</td>\n",
       "      <td>Married-civ-spouse</td>\n",
       "      <td>Exec-managerial</td>\n",
       "      <td>Husband</td>\n",
       "      <td>White</td>\n",
       "      <td>Male</td>\n",
       "      <td>0</td>\n",
       "      <td>0</td>\n",
       "      <td>13</td>\n",
       "      <td>United-States</td>\n",
       "      <td>&lt;=50K</td>\n",
       "    </tr>\n",
       "    <tr>\n",
       "      <th>2</th>\n",
       "      <td>38</td>\n",
       "      <td>Private</td>\n",
       "      <td>215646</td>\n",
       "      <td>HS-grad</td>\n",
       "      <td>9</td>\n",
       "      <td>Divorced</td>\n",
       "      <td>Handlers-cleaners</td>\n",
       "      <td>Not-in-family</td>\n",
       "      <td>White</td>\n",
       "      <td>Male</td>\n",
       "      <td>0</td>\n",
       "      <td>0</td>\n",
       "      <td>40</td>\n",
       "      <td>United-States</td>\n",
       "      <td>&lt;=50K</td>\n",
       "    </tr>\n",
       "    <tr>\n",
       "      <th>3</th>\n",
       "      <td>53</td>\n",
       "      <td>Private</td>\n",
       "      <td>234721</td>\n",
       "      <td>11th</td>\n",
       "      <td>7</td>\n",
       "      <td>Married-civ-spouse</td>\n",
       "      <td>Handlers-cleaners</td>\n",
       "      <td>Husband</td>\n",
       "      <td>Black</td>\n",
       "      <td>Male</td>\n",
       "      <td>0</td>\n",
       "      <td>0</td>\n",
       "      <td>40</td>\n",
       "      <td>United-States</td>\n",
       "      <td>&lt;=50K</td>\n",
       "    </tr>\n",
       "    <tr>\n",
       "      <th>4</th>\n",
       "      <td>28</td>\n",
       "      <td>Private</td>\n",
       "      <td>338409</td>\n",
       "      <td>Bachelors</td>\n",
       "      <td>13</td>\n",
       "      <td>Married-civ-spouse</td>\n",
       "      <td>Prof-specialty</td>\n",
       "      <td>Wife</td>\n",
       "      <td>Black</td>\n",
       "      <td>Female</td>\n",
       "      <td>0</td>\n",
       "      <td>0</td>\n",
       "      <td>40</td>\n",
       "      <td>Cuba</td>\n",
       "      <td>&lt;=50K</td>\n",
       "    </tr>\n",
       "  </tbody>\n",
       "</table>\n",
       "</div>"
      ],
      "text/plain": [
       "   age         workclass  fnlwgt  education  education-num  \\\n",
       "0   39         State-gov   77516  Bachelors             13   \n",
       "1   50  Self-emp-not-inc   83311  Bachelors             13   \n",
       "2   38           Private  215646    HS-grad              9   \n",
       "3   53           Private  234721       11th              7   \n",
       "4   28           Private  338409  Bachelors             13   \n",
       "\n",
       "       marital-status         occupation   relationship   race     sex  \\\n",
       "0       Never-married       Adm-clerical  Not-in-family  White    Male   \n",
       "1  Married-civ-spouse    Exec-managerial        Husband  White    Male   \n",
       "2            Divorced  Handlers-cleaners  Not-in-family  White    Male   \n",
       "3  Married-civ-spouse  Handlers-cleaners        Husband  Black    Male   \n",
       "4  Married-civ-spouse     Prof-specialty           Wife  Black  Female   \n",
       "\n",
       "   capital-gain  capital-loss  hours-per-week native-country target  \n",
       "0          2174             0              40  United-States  <=50K  \n",
       "1             0             0              13  United-States  <=50K  \n",
       "2             0             0              40  United-States  <=50K  \n",
       "3             0             0              40  United-States  <=50K  \n",
       "4             0             0              40           Cuba  <=50K  "
      ]
     },
     "execution_count": 289,
     "metadata": {},
     "output_type": "execute_result"
    }
   ],
   "source": [
    "\n",
    "cols = ['age', 'workclass', 'fnlwgt', 'education', 'education-num', 'marital-status',\n",
    "        'occupation', 'relationship', 'race', 'sex', 'capital-gain', 'capital-loss',\n",
    "        'hours-per-week', 'native-country', 'target']\n",
    "\n",
    "df = pd.read_csv(\"data/adultcensus_data/adult.data\", sep=\",\", header=None, \n",
    "                na_values=['?'],\n",
    "                names=cols,\n",
    "                skipinitialspace=True)\n",
    "\n",
    "\n",
    "df.head()"
   ]
  },
  {
   "cell_type": "code",
   "execution_count": 290,
   "metadata": {},
   "outputs": [
    {
     "name": "stdout",
     "output_type": "stream",
     "text": [
      "Number of dupplicaion:  24\n"
     ]
    }
   ],
   "source": [
    "# Remove dupplication\n",
    "s = df.duplicated()\n",
    "print(\"Number of dupplicaion: \", len(s[s==True]))\n",
    "\n",
    "df.drop_duplicates(inplace=True)"
   ]
  },
  {
   "cell_type": "code",
   "execution_count": 291,
   "metadata": {},
   "outputs": [
    {
     "data": {
      "text/plain": [
       "array(['Adm-clerical', 'Exec-managerial', 'Handlers-cleaners',\n",
       "       'Prof-specialty', 'Other-service', 'Sales', 'Craft-repair',\n",
       "       'Transport-moving', 'Farming-fishing', 'Machine-op-inspct',\n",
       "       'Tech-support', nan, 'Protective-serv', 'Armed-Forces',\n",
       "       'Priv-house-serv'], dtype=object)"
      ]
     },
     "execution_count": 291,
     "metadata": {},
     "output_type": "execute_result"
    }
   ],
   "source": [
    "df['occupation'].unique()"
   ]
  },
  {
   "cell_type": "code",
   "execution_count": 292,
   "metadata": {},
   "outputs": [
    {
     "data": {
      "text/html": [
       "<div>\n",
       "<style scoped>\n",
       "    .dataframe tbody tr th:only-of-type {\n",
       "        vertical-align: middle;\n",
       "    }\n",
       "\n",
       "    .dataframe tbody tr th {\n",
       "        vertical-align: top;\n",
       "    }\n",
       "\n",
       "    .dataframe thead th {\n",
       "        text-align: right;\n",
       "    }\n",
       "</style>\n",
       "<table border=\"1\" class=\"dataframe\">\n",
       "  <thead>\n",
       "    <tr style=\"text-align: right;\">\n",
       "      <th></th>\n",
       "      <th>age</th>\n",
       "      <th>workclass</th>\n",
       "      <th>fnlwgt</th>\n",
       "      <th>education</th>\n",
       "      <th>education-num</th>\n",
       "      <th>marital-status</th>\n",
       "      <th>occupation</th>\n",
       "      <th>relationship</th>\n",
       "      <th>race</th>\n",
       "      <th>sex</th>\n",
       "      <th>capital-gain</th>\n",
       "      <th>capital-loss</th>\n",
       "      <th>hours-per-week</th>\n",
       "      <th>native-country</th>\n",
       "      <th>target</th>\n",
       "    </tr>\n",
       "  </thead>\n",
       "  <tbody>\n",
       "    <tr>\n",
       "      <th>77</th>\n",
       "      <td>67</td>\n",
       "      <td>NaN</td>\n",
       "      <td>212759</td>\n",
       "      <td>10th</td>\n",
       "      <td>6</td>\n",
       "      <td>Married-civ-spouse</td>\n",
       "      <td>NaN</td>\n",
       "      <td>Husband</td>\n",
       "      <td>White</td>\n",
       "      <td>Male</td>\n",
       "      <td>0</td>\n",
       "      <td>0</td>\n",
       "      <td>2</td>\n",
       "      <td>United-States</td>\n",
       "      <td>&lt;=50K</td>\n",
       "    </tr>\n",
       "    <tr>\n",
       "      <th>346</th>\n",
       "      <td>67</td>\n",
       "      <td>NaN</td>\n",
       "      <td>36135</td>\n",
       "      <td>11th</td>\n",
       "      <td>7</td>\n",
       "      <td>Married-civ-spouse</td>\n",
       "      <td>NaN</td>\n",
       "      <td>Husband</td>\n",
       "      <td>White</td>\n",
       "      <td>Male</td>\n",
       "      <td>0</td>\n",
       "      <td>0</td>\n",
       "      <td>8</td>\n",
       "      <td>United-States</td>\n",
       "      <td>&lt;=50K</td>\n",
       "    </tr>\n",
       "    <tr>\n",
       "      <th>474</th>\n",
       "      <td>67</td>\n",
       "      <td>Private</td>\n",
       "      <td>49401</td>\n",
       "      <td>Assoc-voc</td>\n",
       "      <td>11</td>\n",
       "      <td>Divorced</td>\n",
       "      <td>Other-service</td>\n",
       "      <td>Not-in-family</td>\n",
       "      <td>White</td>\n",
       "      <td>Female</td>\n",
       "      <td>0</td>\n",
       "      <td>0</td>\n",
       "      <td>24</td>\n",
       "      <td>United-States</td>\n",
       "      <td>&lt;=50K</td>\n",
       "    </tr>\n",
       "    <tr>\n",
       "      <th>534</th>\n",
       "      <td>67</td>\n",
       "      <td>Private</td>\n",
       "      <td>231559</td>\n",
       "      <td>Prof-school</td>\n",
       "      <td>15</td>\n",
       "      <td>Married-civ-spouse</td>\n",
       "      <td>Prof-specialty</td>\n",
       "      <td>Husband</td>\n",
       "      <td>White</td>\n",
       "      <td>Male</td>\n",
       "      <td>20051</td>\n",
       "      <td>0</td>\n",
       "      <td>48</td>\n",
       "      <td>United-States</td>\n",
       "      <td>&gt;50K</td>\n",
       "    </tr>\n",
       "    <tr>\n",
       "      <th>917</th>\n",
       "      <td>67</td>\n",
       "      <td>Self-emp-inc</td>\n",
       "      <td>76860</td>\n",
       "      <td>HS-grad</td>\n",
       "      <td>9</td>\n",
       "      <td>Married-civ-spouse</td>\n",
       "      <td>Exec-managerial</td>\n",
       "      <td>Husband</td>\n",
       "      <td>Asian-Pac-Islander</td>\n",
       "      <td>Male</td>\n",
       "      <td>0</td>\n",
       "      <td>0</td>\n",
       "      <td>40</td>\n",
       "      <td>United-States</td>\n",
       "      <td>&gt;50K</td>\n",
       "    </tr>\n",
       "  </tbody>\n",
       "</table>\n",
       "</div>"
      ],
      "text/plain": [
       "     age     workclass  fnlwgt    education  education-num  \\\n",
       "77    67           NaN  212759         10th              6   \n",
       "346   67           NaN   36135         11th              7   \n",
       "474   67       Private   49401    Assoc-voc             11   \n",
       "534   67       Private  231559  Prof-school             15   \n",
       "917   67  Self-emp-inc   76860      HS-grad              9   \n",
       "\n",
       "         marital-status       occupation   relationship                race  \\\n",
       "77   Married-civ-spouse              NaN        Husband               White   \n",
       "346  Married-civ-spouse              NaN        Husband               White   \n",
       "474            Divorced    Other-service  Not-in-family               White   \n",
       "534  Married-civ-spouse   Prof-specialty        Husband               White   \n",
       "917  Married-civ-spouse  Exec-managerial        Husband  Asian-Pac-Islander   \n",
       "\n",
       "        sex  capital-gain  capital-loss  hours-per-week native-country target  \n",
       "77     Male             0             0               2  United-States  <=50K  \n",
       "346    Male             0             0               8  United-States  <=50K  \n",
       "474  Female             0             0              24  United-States  <=50K  \n",
       "534    Male         20051             0              48  United-States   >50K  \n",
       "917    Male             0             0              40  United-States   >50K  "
      ]
     },
     "execution_count": 292,
     "metadata": {},
     "output_type": "execute_result"
    }
   ],
   "source": [
    "# df.info()\n",
    "df[df['age'] == 67].head()"
   ]
  },
  {
   "cell_type": "code",
   "execution_count": 293,
   "metadata": {},
   "outputs": [
    {
     "name": "stdout",
     "output_type": "stream",
     "text": [
      "<class 'pandas.core.frame.DataFrame'>\n",
      "Int64Index: 32537 entries, 0 to 32560\n",
      "Data columns (total 15 columns):\n",
      " #   Column          Non-Null Count  Dtype \n",
      "---  ------          --------------  ----- \n",
      " 0   age             32537 non-null  int64 \n",
      " 1   workclass       30701 non-null  object\n",
      " 2   fnlwgt          32537 non-null  int64 \n",
      " 3   education       32537 non-null  object\n",
      " 4   education-num   32537 non-null  int64 \n",
      " 5   marital-status  32537 non-null  object\n",
      " 6   occupation      30694 non-null  object\n",
      " 7   relationship    32537 non-null  object\n",
      " 8   race            32537 non-null  object\n",
      " 9   sex             32537 non-null  object\n",
      " 10  capital-gain    32537 non-null  int64 \n",
      " 11  capital-loss    32537 non-null  int64 \n",
      " 12  hours-per-week  32537 non-null  int64 \n",
      " 13  native-country  31955 non-null  object\n",
      " 14  target          32537 non-null  object\n",
      "dtypes: int64(6), object(9)\n",
      "memory usage: 4.0+ MB\n"
     ]
    }
   ],
   "source": [
    "df.info()"
   ]
  },
  {
   "cell_type": "markdown",
   "metadata": {},
   "source": [
    "Now, the summary shows that the variables - workclass, occupation and native.country contain missing values. All of these variables are categorical data type. So, I will impute the missing values with the most frequent value- the mode."
   ]
  },
  {
   "cell_type": "code",
   "execution_count": 294,
   "metadata": {},
   "outputs": [
    {
     "data": {
      "text/plain": [
       "age               0\n",
       "workclass         0\n",
       "fnlwgt            0\n",
       "education         0\n",
       "education-num     0\n",
       "marital-status    0\n",
       "occupation        0\n",
       "relationship      0\n",
       "race              0\n",
       "sex               0\n",
       "capital-gain      0\n",
       "capital-loss      0\n",
       "hours-per-week    0\n",
       "native-country    0\n",
       "target            0\n",
       "dtype: int64"
      ]
     },
     "execution_count": 294,
     "metadata": {},
     "output_type": "execute_result"
    }
   ],
   "source": [
    "# Impute missing values with mode\n",
    "\n",
    "for col in [\"workclass\", \"occupation\", \"native-country\"]:\n",
    "    df[col].fillna(df[col].mode()[0], inplace=True)\n",
    "\n",
    "df.isnull().sum()"
   ]
  },
  {
   "cell_type": "code",
   "execution_count": 295,
   "metadata": {},
   "outputs": [
    {
     "data": {
      "text/html": [
       "<div>\n",
       "<style scoped>\n",
       "    .dataframe tbody tr th:only-of-type {\n",
       "        vertical-align: middle;\n",
       "    }\n",
       "\n",
       "    .dataframe tbody tr th {\n",
       "        vertical-align: top;\n",
       "    }\n",
       "\n",
       "    .dataframe thead th {\n",
       "        text-align: right;\n",
       "    }\n",
       "</style>\n",
       "<table border=\"1\" class=\"dataframe\">\n",
       "  <thead>\n",
       "    <tr style=\"text-align: right;\">\n",
       "      <th></th>\n",
       "      <th>age</th>\n",
       "      <th>workclass</th>\n",
       "      <th>fnlwgt</th>\n",
       "      <th>education</th>\n",
       "      <th>education-num</th>\n",
       "      <th>marital-status</th>\n",
       "      <th>occupation</th>\n",
       "      <th>relationship</th>\n",
       "      <th>race</th>\n",
       "      <th>sex</th>\n",
       "      <th>capital-gain</th>\n",
       "      <th>capital-loss</th>\n",
       "      <th>hours-per-week</th>\n",
       "      <th>native-country</th>\n",
       "    </tr>\n",
       "  </thead>\n",
       "  <tbody>\n",
       "    <tr>\n",
       "      <th>0</th>\n",
       "      <td>39</td>\n",
       "      <td>State-gov</td>\n",
       "      <td>77516</td>\n",
       "      <td>Bachelors</td>\n",
       "      <td>13</td>\n",
       "      <td>Never-married</td>\n",
       "      <td>Adm-clerical</td>\n",
       "      <td>Not-in-family</td>\n",
       "      <td>White</td>\n",
       "      <td>Male</td>\n",
       "      <td>2174</td>\n",
       "      <td>0</td>\n",
       "      <td>40</td>\n",
       "      <td>United-States</td>\n",
       "    </tr>\n",
       "    <tr>\n",
       "      <th>1</th>\n",
       "      <td>50</td>\n",
       "      <td>Self-emp-not-inc</td>\n",
       "      <td>83311</td>\n",
       "      <td>Bachelors</td>\n",
       "      <td>13</td>\n",
       "      <td>Married-civ-spouse</td>\n",
       "      <td>Exec-managerial</td>\n",
       "      <td>Husband</td>\n",
       "      <td>White</td>\n",
       "      <td>Male</td>\n",
       "      <td>0</td>\n",
       "      <td>0</td>\n",
       "      <td>13</td>\n",
       "      <td>United-States</td>\n",
       "    </tr>\n",
       "    <tr>\n",
       "      <th>2</th>\n",
       "      <td>38</td>\n",
       "      <td>Private</td>\n",
       "      <td>215646</td>\n",
       "      <td>HS-grad</td>\n",
       "      <td>9</td>\n",
       "      <td>Divorced</td>\n",
       "      <td>Handlers-cleaners</td>\n",
       "      <td>Not-in-family</td>\n",
       "      <td>White</td>\n",
       "      <td>Male</td>\n",
       "      <td>0</td>\n",
       "      <td>0</td>\n",
       "      <td>40</td>\n",
       "      <td>United-States</td>\n",
       "    </tr>\n",
       "    <tr>\n",
       "      <th>3</th>\n",
       "      <td>53</td>\n",
       "      <td>Private</td>\n",
       "      <td>234721</td>\n",
       "      <td>11th</td>\n",
       "      <td>7</td>\n",
       "      <td>Married-civ-spouse</td>\n",
       "      <td>Handlers-cleaners</td>\n",
       "      <td>Husband</td>\n",
       "      <td>Black</td>\n",
       "      <td>Male</td>\n",
       "      <td>0</td>\n",
       "      <td>0</td>\n",
       "      <td>40</td>\n",
       "      <td>United-States</td>\n",
       "    </tr>\n",
       "    <tr>\n",
       "      <th>4</th>\n",
       "      <td>28</td>\n",
       "      <td>Private</td>\n",
       "      <td>338409</td>\n",
       "      <td>Bachelors</td>\n",
       "      <td>13</td>\n",
       "      <td>Married-civ-spouse</td>\n",
       "      <td>Prof-specialty</td>\n",
       "      <td>Wife</td>\n",
       "      <td>Black</td>\n",
       "      <td>Female</td>\n",
       "      <td>0</td>\n",
       "      <td>0</td>\n",
       "      <td>40</td>\n",
       "      <td>Cuba</td>\n",
       "    </tr>\n",
       "  </tbody>\n",
       "</table>\n",
       "</div>"
      ],
      "text/plain": [
       "   age         workclass  fnlwgt  education  education-num  \\\n",
       "0   39         State-gov   77516  Bachelors             13   \n",
       "1   50  Self-emp-not-inc   83311  Bachelors             13   \n",
       "2   38           Private  215646    HS-grad              9   \n",
       "3   53           Private  234721       11th              7   \n",
       "4   28           Private  338409  Bachelors             13   \n",
       "\n",
       "       marital-status         occupation   relationship   race     sex  \\\n",
       "0       Never-married       Adm-clerical  Not-in-family  White    Male   \n",
       "1  Married-civ-spouse    Exec-managerial        Husband  White    Male   \n",
       "2            Divorced  Handlers-cleaners  Not-in-family  White    Male   \n",
       "3  Married-civ-spouse  Handlers-cleaners        Husband  Black    Male   \n",
       "4  Married-civ-spouse     Prof-specialty           Wife  Black  Female   \n",
       "\n",
       "   capital-gain  capital-loss  hours-per-week native-country  \n",
       "0          2174             0              40  United-States  \n",
       "1             0             0              13  United-States  \n",
       "2             0             0              40  United-States  \n",
       "3             0             0              40  United-States  \n",
       "4             0             0              40           Cuba  "
      ]
     },
     "execution_count": 295,
     "metadata": {},
     "output_type": "execute_result"
    }
   ],
   "source": [
    "# Setting feature vector and target vector\n",
    "\n",
    "X = df.drop(['target'], axis=1)\n",
    "y = df['target']\n",
    "\n",
    "X.head()"
   ]
  },
  {
   "cell_type": "code",
   "execution_count": 296,
   "metadata": {},
   "outputs": [],
   "source": [
    "# Splitting data \n",
    "\n",
    "from sklearn.model_selection import train_test_split\n",
    "X_train, X_test, y_train, y_test = train_test_split(X, y, test_size=0.3, random_state=0)"
   ]
  },
  {
   "cell_type": "markdown",
   "metadata": {},
   "source": [
    "### Feature engineering"
   ]
  },
  {
   "cell_type": "code",
   "execution_count": 297,
   "metadata": {},
   "outputs": [],
   "source": [
    "# Encoded categorical variabels\n",
    "\n",
    "categorical =  ['workclass', 'education', 'marital-status', 'occupation', \n",
    "                'relationship', 'race', 'sex', 'native-country']\n",
    "for feat in categorical:\n",
    "    le = LabelEncoder()\n",
    "    X_train[feat] = le.fit_transform(X_train[feat])\n",
    "    X_test[feat] = le.transform(X_test[feat])\n",
    "\n",
    "# Feature Scalling\n",
    "\n",
    "scaler = StandardScaler()\n",
    "X_train = pd.DataFrame(scaler.fit_transform(X_train), columns = X.columns)\n",
    "X_test = pd.DataFrame(scaler.fit_transform(X_test), columns = X.columns)\n"
   ]
  },
  {
   "cell_type": "code",
   "execution_count": 298,
   "metadata": {},
   "outputs": [
    {
     "data": {
      "text/html": [
       "<div>\n",
       "<style scoped>\n",
       "    .dataframe tbody tr th:only-of-type {\n",
       "        vertical-align: middle;\n",
       "    }\n",
       "\n",
       "    .dataframe tbody tr th {\n",
       "        vertical-align: top;\n",
       "    }\n",
       "\n",
       "    .dataframe thead th {\n",
       "        text-align: right;\n",
       "    }\n",
       "</style>\n",
       "<table border=\"1\" class=\"dataframe\">\n",
       "  <thead>\n",
       "    <tr style=\"text-align: right;\">\n",
       "      <th></th>\n",
       "      <th>age</th>\n",
       "      <th>workclass</th>\n",
       "      <th>fnlwgt</th>\n",
       "      <th>education</th>\n",
       "      <th>education-num</th>\n",
       "      <th>marital-status</th>\n",
       "      <th>occupation</th>\n",
       "      <th>relationship</th>\n",
       "      <th>race</th>\n",
       "      <th>sex</th>\n",
       "      <th>capital-gain</th>\n",
       "      <th>capital-loss</th>\n",
       "      <th>hours-per-week</th>\n",
       "      <th>native-country</th>\n",
       "    </tr>\n",
       "  </thead>\n",
       "  <tbody>\n",
       "    <tr>\n",
       "      <th>0</th>\n",
       "      <td>-0.187734</td>\n",
       "      <td>-0.078037</td>\n",
       "      <td>1.196504</td>\n",
       "      <td>-0.339808</td>\n",
       "      <td>1.132764</td>\n",
       "      <td>0.918219</td>\n",
       "      <td>1.475563</td>\n",
       "      <td>0.970664</td>\n",
       "      <td>0.395503</td>\n",
       "      <td>0.700852</td>\n",
       "      <td>-0.143188</td>\n",
       "      <td>-0.215168</td>\n",
       "      <td>-0.038289</td>\n",
       "      <td>0.261196</td>\n",
       "    </tr>\n",
       "    <tr>\n",
       "      <th>1</th>\n",
       "      <td>-0.626336</td>\n",
       "      <td>-0.078037</td>\n",
       "      <td>-0.833530</td>\n",
       "      <td>1.215068</td>\n",
       "      <td>-0.032384</td>\n",
       "      <td>0.918219</td>\n",
       "      <td>0.216130</td>\n",
       "      <td>-0.277043</td>\n",
       "      <td>0.395503</td>\n",
       "      <td>-1.426835</td>\n",
       "      <td>-0.143188</td>\n",
       "      <td>-0.215168</td>\n",
       "      <td>-0.038289</td>\n",
       "      <td>0.261196</td>\n",
       "    </tr>\n",
       "    <tr>\n",
       "      <th>2</th>\n",
       "      <td>0.177768</td>\n",
       "      <td>-0.078037</td>\n",
       "      <td>-0.439637</td>\n",
       "      <td>-0.598954</td>\n",
       "      <td>0.355999</td>\n",
       "      <td>-0.408081</td>\n",
       "      <td>0.216130</td>\n",
       "      <td>-0.900896</td>\n",
       "      <td>-3.111665</td>\n",
       "      <td>0.700852</td>\n",
       "      <td>0.844554</td>\n",
       "      <td>-0.215168</td>\n",
       "      <td>1.590480</td>\n",
       "      <td>-3.051851</td>\n",
       "    </tr>\n",
       "    <tr>\n",
       "      <th>3</th>\n",
       "      <td>0.543270</td>\n",
       "      <td>0.826442</td>\n",
       "      <td>0.253463</td>\n",
       "      <td>0.437630</td>\n",
       "      <td>1.521147</td>\n",
       "      <td>-0.408081</td>\n",
       "      <td>1.223676</td>\n",
       "      <td>-0.900896</td>\n",
       "      <td>0.395503</td>\n",
       "      <td>0.700852</td>\n",
       "      <td>-0.143188</td>\n",
       "      <td>4.764691</td>\n",
       "      <td>1.590480</td>\n",
       "      <td>0.261196</td>\n",
       "    </tr>\n",
       "    <tr>\n",
       "      <th>4</th>\n",
       "      <td>-0.114634</td>\n",
       "      <td>-1.886997</td>\n",
       "      <td>0.564820</td>\n",
       "      <td>-0.598954</td>\n",
       "      <td>0.355999</td>\n",
       "      <td>-0.408081</td>\n",
       "      <td>0.971790</td>\n",
       "      <td>-0.900896</td>\n",
       "      <td>0.395503</td>\n",
       "      <td>0.700852</td>\n",
       "      <td>-0.143188</td>\n",
       "      <td>-0.215168</td>\n",
       "      <td>-0.038289</td>\n",
       "      <td>0.261196</td>\n",
       "    </tr>\n",
       "  </tbody>\n",
       "</table>\n",
       "</div>"
      ],
      "text/plain": [
       "        age  workclass    fnlwgt  education  education-num  marital-status  \\\n",
       "0 -0.187734  -0.078037  1.196504  -0.339808       1.132764        0.918219   \n",
       "1 -0.626336  -0.078037 -0.833530   1.215068      -0.032384        0.918219   \n",
       "2  0.177768  -0.078037 -0.439637  -0.598954       0.355999       -0.408081   \n",
       "3  0.543270   0.826442  0.253463   0.437630       1.521147       -0.408081   \n",
       "4 -0.114634  -1.886997  0.564820  -0.598954       0.355999       -0.408081   \n",
       "\n",
       "   occupation  relationship      race       sex  capital-gain  capital-loss  \\\n",
       "0    1.475563      0.970664  0.395503  0.700852     -0.143188     -0.215168   \n",
       "1    0.216130     -0.277043  0.395503 -1.426835     -0.143188     -0.215168   \n",
       "2    0.216130     -0.900896 -3.111665  0.700852      0.844554     -0.215168   \n",
       "3    1.223676     -0.900896  0.395503  0.700852     -0.143188      4.764691   \n",
       "4    0.971790     -0.900896  0.395503  0.700852     -0.143188     -0.215168   \n",
       "\n",
       "   hours-per-week  native-country  \n",
       "0       -0.038289        0.261196  \n",
       "1       -0.038289        0.261196  \n",
       "2        1.590480       -3.051851  \n",
       "3        1.590480        0.261196  \n",
       "4       -0.038289        0.261196  "
      ]
     },
     "execution_count": 298,
     "metadata": {},
     "output_type": "execute_result"
    }
   ],
   "source": [
    "X_train.head()"
   ]
  },
  {
   "cell_type": "markdown",
   "metadata": {},
   "source": [
    "### Logistics Regression model with and without PCA"
   ]
  },
  {
   "cell_type": "code",
   "execution_count": 299,
   "metadata": {},
   "outputs": [
    {
     "name": "stdout",
     "output_type": "stream",
     "text": [
      "Logistic Regression acc score with all the features 0.8239090350338045\n"
     ]
    }
   ],
   "source": [
    "##  Logistic Regression model with all features\n",
    "\n",
    "from sklearn.linear_model import  LogisticRegression\n",
    "from sklearn.metrics import accuracy_score\n",
    "\n",
    "lg = LogisticRegression()\n",
    "lg.fit(X_train, y_train)\n",
    "y_pred = lg.predict(X_test)\n",
    "\n",
    "print(f\"Logistic Regression acc score with all the features {accuracy_score(y_test, y_pred)}\")"
   ]
  },
  {
   "cell_type": "code",
   "execution_count": 300,
   "metadata": {},
   "outputs": [
    {
     "name": "stdout",
     "output_type": "stream",
     "text": [
      "The number of dimensions required to preserve 90% of variance is 12\n"
     ]
    },
    {
     "data": {
      "text/plain": [
       "array([0.14714627, 0.1012281 , 0.08081389, 0.07861446, 0.07415962,\n",
       "       0.07336682, 0.07064408, 0.06776664, 0.06468417, 0.06134237,\n",
       "       0.0608966 , 0.04889032, 0.04283901, 0.02760765])"
      ]
     },
     "execution_count": 300,
     "metadata": {},
     "output_type": "execute_result"
    }
   ],
   "source": [
    "## Logistic Regression with PCA\n",
    "\n",
    "from sklearn.decomposition import PCA\n",
    "pca = PCA()\n",
    "X_train = pca.fit_transform(X_train)\n",
    "\n",
    "cumsum = np.cumsum(pca.explained_variance_ratio_)\n",
    "dim = np.argmax(cumsum >= 0.90) + 1\n",
    "print('The number of dimensions required to preserve 90% of variance is',dim)\n",
    "\n",
    "pca.explained_variance_ratio_\n"
   ]
  },
  {
   "cell_type": "code",
   "execution_count": 301,
   "metadata": {},
   "outputs": [
    {
     "name": "stdout",
     "output_type": "stream",
     "text": [
      "Logistic Regression acc score with all the features 0.8254456054087277\n"
     ]
    }
   ],
   "source": [
    "# drop last 2 features as it carries little information\n",
    "\n",
    "X = df.drop(['target', 'native-country', 'hours-per-week'], axis=1)\n",
    "y = df['target']\n",
    "\n",
    "X_train, X_test, y_train, y_test = train_test_split(X, y, test_size = 0.3, random_state = 0)\n",
    "\n",
    "categorical = ['workclass', 'education', 'marital-status', 'occupation', 'relationship', 'race', 'sex']\n",
    "\n",
    "for feature in categorical:\n",
    "        le = LabelEncoder()\n",
    "        X_train[feature] = le.fit_transform(X_train[feature])\n",
    "        X_test[feature] = le.transform(X_test[feature])\n",
    "\n",
    "\n",
    "X_train = pd.DataFrame(scaler.fit_transform(X_train), columns = X.columns)\n",
    "\n",
    "X_test = pd.DataFrame(scaler.transform(X_test), columns = X.columns)\n",
    "\n",
    "lg = LogisticRegression()\n",
    "lg.fit(X_train, y_train)\n",
    "y_pred = lg.predict(X_test)\n",
    "\n",
    "print(f\"Logistic Regression acc score with all the features {accuracy_score(y_test, y_pred)}\")\n"
   ]
  },
  {
   "cell_type": "code",
   "execution_count": 302,
   "metadata": {},
   "outputs": [],
   "source": [
    "# Save npy file for X, y\n",
    "categorical =  ['workclass', 'education', 'marital-status', 'occupation', 'relationship', 'race', 'sex']\n",
    "for feat in categorical:\n",
    "    le = LabelEncoder()\n",
    "    X[feat] = le.fit_transform(X[feat])\n",
    "\n",
    "le = LabelEncoder()\n",
    "y = le.fit_transform(y)\n",
    "\n",
    "# Feature Scalling\n",
    "\n",
    "scaler = StandardScaler()\n",
    "X = pd.DataFrame(scaler.fit_transform(X), columns = X.columns)\n",
    "\n",
    "X_save = X.to_numpy()\n",
    "y[y == 0] = -1\n",
    "y_save = y\n",
    "sensitive_feat = df.sex.to_numpy() # Choose gender as sensitive feature\n",
    "sensitive_feat[sensitive_feat == \" Male\"] = 1\n",
    "sensitive_feat[sensitive_feat == \" Female\"] = -1\n",
    "s1 = sensitive_feat\n",
    "\n",
    "\n",
    "np.save(\"data/adultcensus_data/XS_adult.npy\", X_save)\n",
    "np.save(\"data/adultcensus_data/y_adult.npy\", y_save)\n",
    "np.save(\"data/adultcensus_data/s_adult.npy\", s1)"
   ]
  },
  {
   "cell_type": "markdown",
   "metadata": {},
   "source": [
    "### Match with crowdsourcing data"
   ]
  },
  {
   "cell_type": "code",
   "execution_count": 303,
   "metadata": {},
   "outputs": [
    {
     "data": {
      "text/plain": [
       "Index(['age', 'workclass', 'fnlwgt', 'education', 'education-num',\n",
       "       'marital-status', 'occupation', 'relationship', 'race', 'sex',\n",
       "       'capital-gain', 'capital-loss', 'hours-per-week', 'native-country',\n",
       "       'target'],\n",
       "      dtype='object')"
      ]
     },
     "execution_count": 303,
     "metadata": {},
     "output_type": "execute_result"
    }
   ],
   "source": [
    "df.columns"
   ]
  },
  {
   "cell_type": "code",
   "execution_count": 304,
   "metadata": {},
   "outputs": [
    {
     "name": "stdout",
     "output_type": "stream",
     "text": [
      "3046\n",
      "Index(['example_idx', 'age', 'workclass', 'education', 'education-num',\n",
      "       'marital-status', 'occupation', 'relationship', 'capital-gain',\n",
      "       'hours-per-week', 'sex', 'race', 'target', 'ans_1', 'ans_2', 'ans_3',\n",
      "       'ans_4', 'ans_5', 'ans_6', 'ans_7', 'ans_8', 'ans_9', 'ans_10',\n",
      "       'ans_11', 'worker_id_1', 'worker_id_2', 'worker_id_3', 'worker_id_4',\n",
      "       'worker_id_5', 'worker_id_6', 'worker_id_7', 'worker_id_8',\n",
      "       'worker_id_9', 'worker_id_10', 'worker_id_11'],\n",
      "      dtype='object')\n"
     ]
    }
   ],
   "source": [
    "# Reading crowdsourcing data\n",
    "df_crowd = pd.read_csv('data/crowdsourcing-data/AdultCensus_crowdsourcing_data.csv', skipinitialspace=True)\n",
    "df_crowd.rename(columns={'role_in_family': 'relationship', \n",
    "                        'work_hours_per_week' : 'hours-per-week',\n",
    "                        'gender' : 'sex', \n",
    "                        'true_label' : 'target',\n",
    "                        'work_class': 'workclass',\n",
    "                        'education_num': 'education-num',\n",
    "                        'marital_status' : 'marital-status',\n",
    "                        'capital_gain' : 'capital-gain'}, inplace=True)\n",
    "\n",
    "print(len(df_crowd))\n",
    "print(df_crowd.columns)                  "
   ]
  },
  {
   "cell_type": "code",
   "execution_count": 305,
   "metadata": {},
   "outputs": [
    {
     "data": {
      "text/plain": [
       "(3222, 528, 29315, 32537)"
      ]
     },
     "execution_count": 305,
     "metadata": {},
     "output_type": "execute_result"
    }
   ],
   "source": [
    "# Find rows in original df that are same in df_crowd\n",
    "\n",
    "common_cols = ['age', 'workclass', 'education', 'education-num',\n",
    "                'marital-status', 'occupation', 'relationship',\n",
    "                'capital-gain', 'hours-per-week', 'race']\n",
    "\n",
    "df_drop = pd.merge(df_crowd, df, on=common_cols, how='inner') \n",
    "df_intersect = pd.merge(df, df_crowd, on=common_cols, how='right') # 3222 \n",
    "\n",
    "\n",
    "cond = df_intersect[common_cols].isin(df[common_cols])\n",
    "df_train = df.drop(df_intersect[cond].index)\n",
    "\n",
    "len(df_intersect), len(df_drop), len(df_train), len(df)\n",
    "\n"
   ]
  },
  {
   "cell_type": "code",
   "execution_count": 306,
   "metadata": {},
   "outputs": [
    {
     "data": {
      "text/plain": [
       "Index(['example_idx', 'age', 'workclass', 'education', 'education-num',\n",
       "       'marital-status', 'occupation', 'relationship', 'capital-gain',\n",
       "       'hours-per-week', 'sex', 'race', 'target', 'ans_1', 'ans_2', 'ans_3',\n",
       "       'ans_4', 'ans_5', 'ans_6', 'ans_7', 'ans_8', 'ans_9', 'ans_10',\n",
       "       'ans_11', 'worker_id_1', 'worker_id_2', 'worker_id_3', 'worker_id_4',\n",
       "       'worker_id_5', 'worker_id_6', 'worker_id_7', 'worker_id_8',\n",
       "       'worker_id_9', 'worker_id_10', 'worker_id_11'],\n",
       "      dtype='object')"
      ]
     },
     "execution_count": 306,
     "metadata": {},
     "output_type": "execute_result"
    }
   ],
   "source": [
    "df_crowd.columns"
   ]
  },
  {
   "cell_type": "code",
   "execution_count": 307,
   "metadata": {},
   "outputs": [
    {
     "data": {
      "text/plain": [
       "Index(['age', 'workclass', 'fnlwgt', 'education', 'education-num',\n",
       "       'marital-status', 'occupation', 'relationship', 'race', 'sex',\n",
       "       'capital-gain', 'capital-loss', 'hours-per-week', 'native-country',\n",
       "       'target'],\n",
       "      dtype='object')"
      ]
     },
     "execution_count": 307,
     "metadata": {},
     "output_type": "execute_result"
    }
   ],
   "source": [
    "df_train.columns"
   ]
  },
  {
   "cell_type": "code",
   "execution_count": 308,
   "metadata": {},
   "outputs": [
    {
     "name": "stdout",
     "output_type": "stream",
     "text": [
      "Logistic Regression acc score with 11 features 0.8234223990903923\n"
     ]
    }
   ],
   "source": [
    "# Drop features that not in crowdsourcing data\n",
    "\n",
    "X = df_train.drop(['target', 'native-country', 'fnlwgt', 'capital-loss'], axis=1)\n",
    "y = df_train['target']\n",
    "\n",
    "X_train, X_test, y_train, y_test = train_test_split(X, y, test_size = 0.3, random_state = 0)\n",
    "\n",
    "categorical = ['workclass', 'education', 'marital-status', 'occupation', 'relationship', 'race', 'sex']\n",
    "\n",
    "for feature in categorical:\n",
    "        le = LabelEncoder()\n",
    "        X_train[feature] = le.fit_transform(X_train[feature])\n",
    "        X_test[feature] = le.transform(X_test[feature])\n",
    "\n",
    "\n",
    "X_train = pd.DataFrame(scaler.fit_transform(X_train), columns = X.columns)\n",
    "\n",
    "X_test = pd.DataFrame(scaler.transform(X_test), columns = X.columns)\n",
    "\n",
    "lg = LogisticRegression()\n",
    "lg.fit(X_train, y_train)\n",
    "y_pred = lg.predict(X_test)\n",
    "\n",
    "print(f\"Logistic Regression acc score with 11 features {accuracy_score(y_test, y_pred)}\")\n"
   ]
  },
  {
   "cell_type": "markdown",
   "metadata": {},
   "source": [
    "### Preprocessing crowdsourcing data"
   ]
  },
  {
   "cell_type": "code",
   "execution_count": 309,
   "metadata": {},
   "outputs": [],
   "source": [
    "df_crowd.drop('example_idx', inplace=True, axis=1)"
   ]
  },
  {
   "cell_type": "code",
   "execution_count": 310,
   "metadata": {},
   "outputs": [
    {
     "data": {
      "text/plain": [
       "Index(['age', 'workclass', 'education', 'education-num', 'marital-status',\n",
       "       'occupation', 'relationship', 'capital-gain', 'hours-per-week', 'sex',\n",
       "       'race', 'target', 'ans_1', 'ans_2', 'ans_3', 'ans_4', 'ans_5', 'ans_6',\n",
       "       'ans_7', 'ans_8', 'ans_9', 'ans_10', 'ans_11', 'worker_id_1',\n",
       "       'worker_id_2', 'worker_id_3', 'worker_id_4', 'worker_id_5',\n",
       "       'worker_id_6', 'worker_id_7', 'worker_id_8', 'worker_id_9',\n",
       "       'worker_id_10', 'worker_id_11'],\n",
       "      dtype='object')"
      ]
     },
     "execution_count": 310,
     "metadata": {},
     "output_type": "execute_result"
    }
   ],
   "source": [
    "df_crowd.columns"
   ]
  },
  {
   "cell_type": "code",
   "execution_count": 311,
   "metadata": {},
   "outputs": [
    {
     "data": {
      "image/png": "[encoded data removed]",
      "text/plain": [
       "<Figure size 432x288 with 1 Axes>"
      ]
     },
     "metadata": {},
     "output_type": "display_data"
    }
   ],
   "source": [
    "df_crowd['ans_10'].plot(kind='hist')\n",
    "plt.show()"
   ]
  },
  {
   "cell_type": "markdown",
   "metadata": {},
   "source": [
    "Get mean value of 11 answers each sample \n",
    "and compare with the thresholds 2.5 to come up with final guess label"
   ]
  },
  {
   "cell_type": "code",
   "execution_count": 312,
   "metadata": {},
   "outputs": [
    {
     "data": {
      "text/plain": [
       "0      -1\n",
       "1       1\n",
       "2       1\n",
       "3      -1\n",
       "4      -1\n",
       "       ..\n",
       "3041   -1\n",
       "3042   -1\n",
       "3043   -1\n",
       "3044   -1\n",
       "3045   -1\n",
       "Name: guess, Length: 3046, dtype: int64"
      ]
     },
     "execution_count": 312,
     "metadata": {},
     "output_type": "execute_result"
    }
   ],
   "source": [
    "ans = [\"ans_\"+str(i) for i in range(1,12)]\n",
    "df_crowd['guess'] = df_crowd[ans].mean(axis=1)\n",
    "df_crowd.loc[df_crowd['guess'] <= 2.5, 'guess'] = -1\n",
    "df_crowd.loc[df_crowd['guess'] > 2.5, 'guess'] = 1\n",
    "df_crowd['guess'].astype('int64')"
   ]
  },
  {
   "cell_type": "markdown",
   "metadata": {},
   "source": [
    "Check the accuracy of the crowdsourcing 'guess' label with true label"
   ]
  },
  {
   "cell_type": "code",
   "execution_count": 313,
   "metadata": {},
   "outputs": [
    {
     "name": "stdout",
     "output_type": "stream",
     "text": [
      "0.7255416940249507\n"
     ]
    }
   ],
   "source": [
    "print(accuracy_score(df_crowd['target'], df_crowd['guess']))"
   ]
  },
  {
   "cell_type": "code",
   "execution_count": 314,
   "metadata": {},
   "outputs": [],
   "source": [
    "drop_worker = ['worker_id_1',\n",
    "       'worker_id_2', 'worker_id_3', 'worker_id_4', 'worker_id_5',\n",
    "       'worker_id_6', 'worker_id_7', 'worker_id_8', 'worker_id_9',\n",
    "       'worker_id_10', 'worker_id_11']"
   ]
  },
  {
   "cell_type": "markdown",
   "metadata": {},
   "source": [
    "### Save npy file of validation set X_val, y_val constructing from crowdsourcing data df_crowd"
   ]
  },
  {
   "cell_type": "code",
   "execution_count": 315,
   "metadata": {},
   "outputs": [
    {
     "data": {
      "text/plain": [
       "((3046, 11), (3046,))"
      ]
     },
     "execution_count": 315,
     "metadata": {},
     "output_type": "execute_result"
    }
   ],
   "source": [
    "X_val = df_crowd.drop(ans + drop_worker + ['target', 'guess', ], axis=1)\n",
    "y_val = df_crowd['guess']\n",
    "\n",
    "\n",
    "X_val.shape, y_val.shape"
   ]
  },
  {
   "cell_type": "code",
   "execution_count": 316,
   "metadata": {},
   "outputs": [],
   "source": [
    "categorical =  ['workclass', 'education', 'marital-status', 'occupation', 'relationship', 'race', 'sex']\n",
    "for feat in categorical:\n",
    "    le = LabelEncoder()\n",
    "    X_val[feat] = le.fit_transform(X_val[feat])\n",
    "\n",
    "le = LabelEncoder()\n",
    "y_val = le.fit_transform(y_val)\n",
    "\n",
    "# Feature Scalling\n",
    "\n",
    "scaler = StandardScaler()\n",
    "X_val = pd.DataFrame(scaler.fit_transform(X_val), columns = X_val.columns)\n",
    "\n",
    "\n",
    "X_val_save = X_val.to_numpy()\n",
    "y_val[y_val == 0] = -1\n",
    "y_val_save = y_val\n",
    "sensitive_feat = df_crowd.sex.to_numpy() # Choose gender as sensitive feature\n",
    "sensitive_feat[sensitive_feat == \"Male\"] = 1\n",
    "sensitive_feat[sensitive_feat == \"Female\"] = -1\n",
    "s1_val = sensitive_feat\n",
    "\n",
    "\n",
    "np.save(\"data/adultcensus_data/XS_val_adult.npy\", X_val_save)\n",
    "np.save(\"data/adultcensus_data/y_val_adult.npy\", y_val_save)\n",
    "np.save(\"data/adultcensus_data/s_val_adult.npy\", s1_val)"
   ]
  },
  {
   "cell_type": "markdown",
   "metadata": {},
   "source": [
    "### Save npy file for X_train, y_train from df_train"
   ]
  },
  {
   "cell_type": "code",
   "execution_count": 317,
   "metadata": {},
   "outputs": [],
   "source": [
    "categorical =  ['workclass', 'education', 'marital-status', 'occupation', 'relationship', 'race', 'sex']\n",
    "for feat in categorical:\n",
    "    le = LabelEncoder()\n",
    "    X[feat] = le.fit_transform(X[feat])\n",
    "\n",
    "le = LabelEncoder()\n",
    "y = le.fit_transform(y)\n",
    "\n",
    "# Feature Scalling\n",
    "\n",
    "scaler = StandardScaler()\n",
    "X_train = pd.DataFrame(scaler.fit_transform(X), columns = X.columns)\n",
    "\n",
    "X_train_save = X_train.to_numpy()\n",
    "y[y == 0] = -1\n",
    "y_train_save = y\n",
    "sensitive_feat = df_train.sex.to_numpy() # Choose gender as sensitive feature\n",
    "sensitive_feat[sensitive_feat == \"Male\"] = 1\n",
    "sensitive_feat[sensitive_feat == \"Female\"] = -1\n",
    "s1_train = sensitive_feat\n",
    "\n",
    "\n",
    "np.save(\"data/adultcensus_data/XS_train_adult.npy\", X_train_save)\n",
    "np.save(\"data/adultcensus_data/y_train_adult.npy\", y_train_save)\n",
    "np.save(\"data/adultcensus_data/s_train_adult.npy\", s1_train)"
   ]
  },
  {
   "cell_type": "code",
   "execution_count": 318,
   "metadata": {},
   "outputs": [
    {
     "data": {
      "text/plain": [
       "((32537, 12), (32537,), (32537,))"
      ]
     },
     "execution_count": 318,
     "metadata": {},
     "output_type": "execute_result"
    }
   ],
   "source": [
    "X_save.shape, y_save.shape, s1.shape"
   ]
  },
  {
   "cell_type": "code",
   "execution_count": 319,
   "metadata": {},
   "outputs": [
    {
     "data": {
      "text/plain": [
       "((3046, 11), (3046,), (3046,))"
      ]
     },
     "execution_count": 319,
     "metadata": {},
     "output_type": "execute_result"
    }
   ],
   "source": [
    "X_val_save.shape, y_val_save.shape, s1_val.shape"
   ]
  },
  {
   "cell_type": "code",
   "execution_count": 320,
   "metadata": {},
   "outputs": [
    {
     "data": {
      "text/plain": [
       "((29315, 11), (29315,), (29315,))"
      ]
     },
     "execution_count": 320,
     "metadata": {},
     "output_type": "execute_result"
    }
   ],
   "source": [
    "X_train_save.shape, y_train_save.shape, s1_train.shape\n"
   ]
  }
 ],
 "metadata": {
  "interpreter": {
   "hash": "df0893f56f349688326838aaeea0de204df53a132722cbd565e54b24a8fec5f6"
  },
  "kernelspec": {
   "display_name": "Python 3.8.0 64-bit",
   "language": "python",
   "name": "python3"
  },
  "language_info": {
   "codemirror_mode": {
    "name": "ipython",
    "version": 3
   },
   "file_extension": ".py",
   "mimetype": "text/x-python",
   "name": "python",
   "nbconvert_exporter": "python",
   "pygments_lexer": "ipython3",
   "version": "3.8.0"
  },
  "orig_nbformat": 4
 },
 "nbformat": 4,
 "nbformat_minor": 2
}
