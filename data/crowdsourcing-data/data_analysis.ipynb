{
 "cells": [
  {
   "cell_type": "code",
   "execution_count": 1,
   "metadata": {},
   "outputs": [],
   "source": [
    "import pandas as pd\n",
    "import numpy as np\n",
    "import seaborn as sns\n",
    "import matplotlib.pyplot as plt\n",
    "plt.style.use('dark_background')"
   ]
  },
  {
   "cell_type": "code",
   "execution_count": 2,
   "metadata": {},
   "outputs": [
    {
     "data": {
      "text/html": [
       "<div>\n",
       "<style scoped>\n",
       "    .dataframe tbody tr th:only-of-type {\n",
       "        vertical-align: middle;\n",
       "    }\n",
       "\n",
       "    .dataframe tbody tr th {\n",
       "        vertical-align: top;\n",
       "    }\n",
       "\n",
       "    .dataframe thead th {\n",
       "        text-align: right;\n",
       "    }\n",
       "</style>\n",
       "<table border=\"1\" class=\"dataframe\">\n",
       "  <thead>\n",
       "    <tr style=\"text-align: right;\">\n",
       "      <th></th>\n",
       "      <th>example_idx</th>\n",
       "      <th>age_category</th>\n",
       "      <th>age</th>\n",
       "      <th>crime_level</th>\n",
       "      <th>num_of_crimes</th>\n",
       "      <th>stay_in_prison</th>\n",
       "      <th>gender</th>\n",
       "      <th>race</th>\n",
       "      <th>true_label</th>\n",
       "      <th>ans_1</th>\n",
       "      <th>...</th>\n",
       "      <th>worker_id_2</th>\n",
       "      <th>worker_id_3</th>\n",
       "      <th>worker_id_4</th>\n",
       "      <th>worker_id_5</th>\n",
       "      <th>worker_id_6</th>\n",
       "      <th>worker_id_7</th>\n",
       "      <th>worker_id_8</th>\n",
       "      <th>worker_id_9</th>\n",
       "      <th>worker_id_10</th>\n",
       "      <th>worker_id_11</th>\n",
       "    </tr>\n",
       "  </thead>\n",
       "  <tbody>\n",
       "    <tr>\n",
       "      <th>0</th>\n",
       "      <td>0</td>\n",
       "      <td>Less than 25</td>\n",
       "      <td>23</td>\n",
       "      <td>Felony (Serious)</td>\n",
       "      <td>8</td>\n",
       "      <td>&gt; 3 months</td>\n",
       "      <td>Male</td>\n",
       "      <td>Non-caucasian</td>\n",
       "      <td>1</td>\n",
       "      <td>4</td>\n",
       "      <td>...</td>\n",
       "      <td>worker_60</td>\n",
       "      <td>worker_114</td>\n",
       "      <td>worker_104</td>\n",
       "      <td>worker_17</td>\n",
       "      <td>worker_48</td>\n",
       "      <td>worker_31</td>\n",
       "      <td>worker_74</td>\n",
       "      <td>worker_133</td>\n",
       "      <td>worker_14</td>\n",
       "      <td>worker_75</td>\n",
       "    </tr>\n",
       "    <tr>\n",
       "      <th>1</th>\n",
       "      <td>1</td>\n",
       "      <td>Greater than 45</td>\n",
       "      <td>52</td>\n",
       "      <td>Misdemeanor (Light)</td>\n",
       "      <td>0</td>\n",
       "      <td>&lt; week</td>\n",
       "      <td>Male</td>\n",
       "      <td>Non-caucasian</td>\n",
       "      <td>1</td>\n",
       "      <td>2</td>\n",
       "      <td>...</td>\n",
       "      <td>worker_19</td>\n",
       "      <td>worker_113</td>\n",
       "      <td>worker_109</td>\n",
       "      <td>worker_106</td>\n",
       "      <td>worker_115</td>\n",
       "      <td>worker_25</td>\n",
       "      <td>worker_126</td>\n",
       "      <td>worker_44</td>\n",
       "      <td>worker_132</td>\n",
       "      <td>worker_45</td>\n",
       "    </tr>\n",
       "    <tr>\n",
       "      <th>2</th>\n",
       "      <td>2</td>\n",
       "      <td>25 to 45</td>\n",
       "      <td>31</td>\n",
       "      <td>Felony (Serious)</td>\n",
       "      <td>3</td>\n",
       "      <td>&lt; week</td>\n",
       "      <td>Male</td>\n",
       "      <td>Non-caucasian</td>\n",
       "      <td>1</td>\n",
       "      <td>2</td>\n",
       "      <td>...</td>\n",
       "      <td>worker_44</td>\n",
       "      <td>worker_61</td>\n",
       "      <td>worker_62</td>\n",
       "      <td>worker_112</td>\n",
       "      <td>worker_40</td>\n",
       "      <td>worker_51</td>\n",
       "      <td>worker_92</td>\n",
       "      <td>worker_101</td>\n",
       "      <td>worker_7</td>\n",
       "      <td>worker_133</td>\n",
       "    </tr>\n",
       "    <tr>\n",
       "      <th>3</th>\n",
       "      <td>3</td>\n",
       "      <td>25 to 45</td>\n",
       "      <td>29</td>\n",
       "      <td>Felony (Serious)</td>\n",
       "      <td>7</td>\n",
       "      <td>&lt; week</td>\n",
       "      <td>Male</td>\n",
       "      <td>Non-caucasian</td>\n",
       "      <td>1</td>\n",
       "      <td>3</td>\n",
       "      <td>...</td>\n",
       "      <td>worker_133</td>\n",
       "      <td>worker_83</td>\n",
       "      <td>worker_50</td>\n",
       "      <td>worker_139</td>\n",
       "      <td>worker_96</td>\n",
       "      <td>worker_41</td>\n",
       "      <td>worker_20</td>\n",
       "      <td>worker_55</td>\n",
       "      <td>worker_8</td>\n",
       "      <td>worker_44</td>\n",
       "    </tr>\n",
       "    <tr>\n",
       "      <th>4</th>\n",
       "      <td>4</td>\n",
       "      <td>25 to 45</td>\n",
       "      <td>27</td>\n",
       "      <td>Felony (Serious)</td>\n",
       "      <td>5</td>\n",
       "      <td>&lt; 3 months</td>\n",
       "      <td>Male</td>\n",
       "      <td>Non-caucasian</td>\n",
       "      <td>1</td>\n",
       "      <td>3</td>\n",
       "      <td>...</td>\n",
       "      <td>worker_135</td>\n",
       "      <td>worker_47</td>\n",
       "      <td>worker_103</td>\n",
       "      <td>worker_57</td>\n",
       "      <td>worker_53</td>\n",
       "      <td>worker_42</td>\n",
       "      <td>worker_133</td>\n",
       "      <td>worker_24</td>\n",
       "      <td>worker_30</td>\n",
       "      <td>worker_124</td>\n",
       "    </tr>\n",
       "  </tbody>\n",
       "</table>\n",
       "<p>5 rows × 31 columns</p>\n",
       "</div>"
      ],
      "text/plain": [
       "   example_idx     age_category  age          crime_level  num_of_crimes  \\\n",
       "0            0     Less than 25   23     Felony (Serious)              8   \n",
       "1            1  Greater than 45   52  Misdemeanor (Light)              0   \n",
       "2            2         25 to 45   31     Felony (Serious)              3   \n",
       "3            3         25 to 45   29     Felony (Serious)              7   \n",
       "4            4         25 to 45   27     Felony (Serious)              5   \n",
       "\n",
       "  stay_in_prison gender           race  true_label  ans_1  ...  worker_id_2  \\\n",
       "0     > 3 months   Male  Non-caucasian           1      4  ...    worker_60   \n",
       "1         < week   Male  Non-caucasian           1      2  ...    worker_19   \n",
       "2         < week   Male  Non-caucasian           1      2  ...    worker_44   \n",
       "3         < week   Male  Non-caucasian           1      3  ...   worker_133   \n",
       "4     < 3 months   Male  Non-caucasian           1      3  ...   worker_135   \n",
       "\n",
       "   worker_id_3  worker_id_4  worker_id_5  worker_id_6  worker_id_7  \\\n",
       "0   worker_114   worker_104    worker_17    worker_48    worker_31   \n",
       "1   worker_113   worker_109   worker_106   worker_115    worker_25   \n",
       "2    worker_61    worker_62   worker_112    worker_40    worker_51   \n",
       "3    worker_83    worker_50   worker_139    worker_96    worker_41   \n",
       "4    worker_47   worker_103    worker_57    worker_53    worker_42   \n",
       "\n",
       "   worker_id_8  worker_id_9  worker_id_10  worker_id_11  \n",
       "0    worker_74   worker_133     worker_14     worker_75  \n",
       "1   worker_126    worker_44    worker_132     worker_45  \n",
       "2    worker_92   worker_101      worker_7    worker_133  \n",
       "3    worker_20    worker_55      worker_8     worker_44  \n",
       "4   worker_133    worker_24     worker_30    worker_124  \n",
       "\n",
       "[5 rows x 31 columns]"
      ]
     },
     "execution_count": 2,
     "metadata": {},
     "output_type": "execute_result"
    }
   ],
   "source": [
    "df_adult = pd.read_csv(\"AdultCensus_crowdsourcing_data.csv\")\n",
    "df_compas = pd.read_csv(\"COMPAS_crowdsourcing_data.csv\")\n",
    "df_adult.head()\n",
    "df_compas.head()"
   ]
  },
  {
   "cell_type": "code",
   "execution_count": 3,
   "metadata": {},
   "outputs": [
    {
     "name": "stdout",
     "output_type": "stream",
     "text": [
      "AdultCencus dataset columns:  ['example_idx', 'age', 'work_class', 'education', 'education_num', 'marital_status', 'occupation', 'role_in_family', 'capital_gain', 'work_hours_per_week', 'gender', 'race', 'true_label', 'ans_1', 'ans_2', 'ans_3', 'ans_4', 'ans_5', 'ans_6', 'ans_7', 'ans_8', 'ans_9', 'ans_10', 'ans_11', 'worker_id_1', 'worker_id_2', 'worker_id_3', 'worker_id_4', 'worker_id_5', 'worker_id_6', 'worker_id_7', 'worker_id_8', 'worker_id_9', 'worker_id_10', 'worker_id_11']\n",
      "Compas dataset columns:  ['example_idx', 'age_category', 'age', 'crime_level', 'num_of_crimes', 'stay_in_prison', 'gender', 'race', 'true_label', 'ans_1', 'ans_2', 'ans_3', 'ans_4', 'ans_5', 'ans_6', 'ans_7', 'ans_8', 'ans_9', 'ans_10', 'ans_11', 'worker_id_1', 'worker_id_2', 'worker_id_3', 'worker_id_4', 'worker_id_5', 'worker_id_6', 'worker_id_7', 'worker_id_8', 'worker_id_9', 'worker_id_10', 'worker_id_11']\n"
     ]
    }
   ],
   "source": [
    "columns_adult = list(df_adult.columns)\n",
    "columns_compas = list(df_compas.columns)\n",
    "\n",
    "\n",
    "print(\"AdultCencus dataset columns: \",columns_adult)\n",
    "print(\"Compas dataset columns: \",columns_compas)"
   ]
  },
  {
   "cell_type": "code",
   "execution_count": 4,
   "metadata": {},
   "outputs": [
    {
     "data": {
      "text/plain": [
       "array([ 1, -1])"
      ]
     },
     "execution_count": 4,
     "metadata": {},
     "output_type": "execute_result"
    }
   ],
   "source": [
    "df_adult.true_label.unique()\n",
    "df_compas.true_label.unique()"
   ]
  },
  {
   "cell_type": "code",
   "execution_count": 5,
   "metadata": {},
   "outputs": [
    {
     "name": "stdout",
     "output_type": "stream",
     "text": [
      "Number of samples of COMPAS dataset:  440\n",
      "Number of samples of AdultCencus dataset:  440\n"
     ]
    }
   ],
   "source": [
    "print(\"Number of samples of COMPAS dataset: \", len(df_compas))\n",
    "print(\"Number of samples of AdultCencus dataset: \", len(df_compas))\n"
   ]
  },
  {
   "cell_type": "markdown",
   "metadata": {},
   "source": [
    "## COMPAS crowdsourcing dataset"
   ]
  },
  {
   "cell_type": "code",
   "execution_count": 12,
   "metadata": {},
   "outputs": [
    {
     "data": {
      "text/plain": [
       "-1    228\n",
       " 1    212\n",
       "Name: true_label, dtype: int64"
      ]
     },
     "execution_count": 12,
     "metadata": {},
     "output_type": "execute_result"
    }
   ],
   "source": [
    "# There seems to not have significant imbalance in target classes \n",
    "target_counts = df_compas[\"true_label\"].value_counts()\n",
    "target_counts"
   ]
  },
  {
   "cell_type": "code",
   "execution_count": 13,
   "metadata": {},
   "outputs": [
    {
     "name": "stdout",
     "output_type": "stream",
     "text": [
      "<class 'pandas.core.frame.DataFrame'>\n",
      "RangeIndex: 440 entries, 0 to 439\n",
      "Data columns (total 31 columns):\n",
      " #   Column          Non-Null Count  Dtype \n",
      "---  ------          --------------  ----- \n",
      " 0   example_idx     440 non-null    int64 \n",
      " 1   age_category    440 non-null    object\n",
      " 2   age             440 non-null    int64 \n",
      " 3   crime_level     440 non-null    object\n",
      " 4   num_of_crimes   440 non-null    int64 \n",
      " 5   stay_in_prison  440 non-null    object\n",
      " 6   gender          440 non-null    object\n",
      " 7   race            440 non-null    object\n",
      " 8   true_label      440 non-null    int64 \n",
      " 9   ans_1           440 non-null    int64 \n",
      " 10  ans_2           440 non-null    int64 \n",
      " 11  ans_3           440 non-null    int64 \n",
      " 12  ans_4           440 non-null    int64 \n",
      " 13  ans_5           440 non-null    int64 \n",
      " 14  ans_6           440 non-null    int64 \n",
      " 15  ans_7           440 non-null    int64 \n",
      " 16  ans_8           440 non-null    int64 \n",
      " 17  ans_9           440 non-null    int64 \n",
      " 18  ans_10          440 non-null    int64 \n",
      " 19  ans_11          440 non-null    int64 \n",
      " 20  worker_id_1     440 non-null    object\n",
      " 21  worker_id_2     440 non-null    object\n",
      " 22  worker_id_3     440 non-null    object\n",
      " 23  worker_id_4     440 non-null    object\n",
      " 24  worker_id_5     440 non-null    object\n",
      " 25  worker_id_6     440 non-null    object\n",
      " 26  worker_id_7     440 non-null    object\n",
      " 27  worker_id_8     440 non-null    object\n",
      " 28  worker_id_9     440 non-null    object\n",
      " 29  worker_id_10    440 non-null    object\n",
      " 30  worker_id_11    440 non-null    object\n",
      "dtypes: int64(15), object(16)\n",
      "memory usage: 106.7+ KB\n"
     ]
    }
   ],
   "source": [
    "df_compas.info()"
   ]
  },
  {
   "cell_type": "code",
   "execution_count": 6,
   "metadata": {},
   "outputs": [
    {
     "name": "stdout",
     "output_type": "stream",
     "text": [
      "categorical data:\n"
     ]
    },
    {
     "data": {
      "text/html": [
       "<div>\n",
       "<style scoped>\n",
       "    .dataframe tbody tr th:only-of-type {\n",
       "        vertical-align: middle;\n",
       "    }\n",
       "\n",
       "    .dataframe tbody tr th {\n",
       "        vertical-align: top;\n",
       "    }\n",
       "\n",
       "    .dataframe thead th {\n",
       "        text-align: right;\n",
       "    }\n",
       "</style>\n",
       "<table border=\"1\" class=\"dataframe\">\n",
       "  <thead>\n",
       "    <tr style=\"text-align: right;\">\n",
       "      <th></th>\n",
       "      <th>age_category</th>\n",
       "      <th>crime_level</th>\n",
       "      <th>stay_in_prison</th>\n",
       "      <th>gender</th>\n",
       "      <th>race</th>\n",
       "      <th>worker_id_1</th>\n",
       "      <th>worker_id_2</th>\n",
       "      <th>worker_id_3</th>\n",
       "      <th>worker_id_4</th>\n",
       "      <th>worker_id_5</th>\n",
       "      <th>worker_id_6</th>\n",
       "      <th>worker_id_7</th>\n",
       "      <th>worker_id_8</th>\n",
       "      <th>worker_id_9</th>\n",
       "      <th>worker_id_10</th>\n",
       "      <th>worker_id_11</th>\n",
       "    </tr>\n",
       "  </thead>\n",
       "  <tbody>\n",
       "    <tr>\n",
       "      <th>0</th>\n",
       "      <td>Less than 25</td>\n",
       "      <td>Felony (Serious)</td>\n",
       "      <td>&gt; 3 months</td>\n",
       "      <td>Male</td>\n",
       "      <td>Non-caucasian</td>\n",
       "      <td>worker_32</td>\n",
       "      <td>worker_60</td>\n",
       "      <td>worker_114</td>\n",
       "      <td>worker_104</td>\n",
       "      <td>worker_17</td>\n",
       "      <td>worker_48</td>\n",
       "      <td>worker_31</td>\n",
       "      <td>worker_74</td>\n",
       "      <td>worker_133</td>\n",
       "      <td>worker_14</td>\n",
       "      <td>worker_75</td>\n",
       "    </tr>\n",
       "    <tr>\n",
       "      <th>1</th>\n",
       "      <td>Greater than 45</td>\n",
       "      <td>Misdemeanor (Light)</td>\n",
       "      <td>&lt; week</td>\n",
       "      <td>Male</td>\n",
       "      <td>Non-caucasian</td>\n",
       "      <td>worker_91</td>\n",
       "      <td>worker_19</td>\n",
       "      <td>worker_113</td>\n",
       "      <td>worker_109</td>\n",
       "      <td>worker_106</td>\n",
       "      <td>worker_115</td>\n",
       "      <td>worker_25</td>\n",
       "      <td>worker_126</td>\n",
       "      <td>worker_44</td>\n",
       "      <td>worker_132</td>\n",
       "      <td>worker_45</td>\n",
       "    </tr>\n",
       "  </tbody>\n",
       "</table>\n",
       "</div>"
      ],
      "text/plain": [
       "      age_category          crime_level stay_in_prison gender           race  \\\n",
       "0     Less than 25     Felony (Serious)     > 3 months   Male  Non-caucasian   \n",
       "1  Greater than 45  Misdemeanor (Light)         < week   Male  Non-caucasian   \n",
       "\n",
       "  worker_id_1 worker_id_2 worker_id_3 worker_id_4 worker_id_5 worker_id_6  \\\n",
       "0   worker_32   worker_60  worker_114  worker_104   worker_17   worker_48   \n",
       "1   worker_91   worker_19  worker_113  worker_109  worker_106  worker_115   \n",
       "\n",
       "  worker_id_7 worker_id_8 worker_id_9 worker_id_10 worker_id_11  \n",
       "0   worker_31   worker_74  worker_133    worker_14    worker_75  \n",
       "1   worker_25  worker_126   worker_44   worker_132    worker_45  "
      ]
     },
     "metadata": {},
     "output_type": "display_data"
    },
    {
     "name": "stdout",
     "output_type": "stream",
     "text": [
      "numeric data:\n"
     ]
    },
    {
     "data": {
      "text/html": [
       "<div>\n",
       "<style scoped>\n",
       "    .dataframe tbody tr th:only-of-type {\n",
       "        vertical-align: middle;\n",
       "    }\n",
       "\n",
       "    .dataframe tbody tr th {\n",
       "        vertical-align: top;\n",
       "    }\n",
       "\n",
       "    .dataframe thead th {\n",
       "        text-align: right;\n",
       "    }\n",
       "</style>\n",
       "<table border=\"1\" class=\"dataframe\">\n",
       "  <thead>\n",
       "    <tr style=\"text-align: right;\">\n",
       "      <th></th>\n",
       "      <th>age</th>\n",
       "      <th>ans_1</th>\n",
       "      <th>ans_10</th>\n",
       "      <th>ans_11</th>\n",
       "      <th>ans_2</th>\n",
       "      <th>ans_3</th>\n",
       "      <th>ans_4</th>\n",
       "      <th>ans_5</th>\n",
       "      <th>ans_6</th>\n",
       "      <th>ans_7</th>\n",
       "      <th>ans_8</th>\n",
       "      <th>ans_9</th>\n",
       "      <th>example_idx</th>\n",
       "      <th>num_of_crimes</th>\n",
       "      <th>true_label</th>\n",
       "    </tr>\n",
       "  </thead>\n",
       "  <tbody>\n",
       "    <tr>\n",
       "      <th>0</th>\n",
       "      <td>23</td>\n",
       "      <td>4</td>\n",
       "      <td>4</td>\n",
       "      <td>4</td>\n",
       "      <td>3</td>\n",
       "      <td>4</td>\n",
       "      <td>4</td>\n",
       "      <td>4</td>\n",
       "      <td>4</td>\n",
       "      <td>4</td>\n",
       "      <td>4</td>\n",
       "      <td>3</td>\n",
       "      <td>0</td>\n",
       "      <td>8</td>\n",
       "      <td>1</td>\n",
       "    </tr>\n",
       "    <tr>\n",
       "      <th>1</th>\n",
       "      <td>52</td>\n",
       "      <td>2</td>\n",
       "      <td>3</td>\n",
       "      <td>1</td>\n",
       "      <td>2</td>\n",
       "      <td>1</td>\n",
       "      <td>2</td>\n",
       "      <td>1</td>\n",
       "      <td>2</td>\n",
       "      <td>3</td>\n",
       "      <td>2</td>\n",
       "      <td>1</td>\n",
       "      <td>1</td>\n",
       "      <td>0</td>\n",
       "      <td>1</td>\n",
       "    </tr>\n",
       "  </tbody>\n",
       "</table>\n",
       "</div>"
      ],
      "text/plain": [
       "   age  ans_1  ans_10  ans_11  ans_2  ans_3  ans_4  ans_5  ans_6  ans_7  \\\n",
       "0   23      4       4       4      3      4      4      4      4      4   \n",
       "1   52      2       3       1      2      1      2      1      2      3   \n",
       "\n",
       "   ans_8  ans_9  example_idx  num_of_crimes  true_label  \n",
       "0      4      3            0              8           1  \n",
       "1      2      1            1              0           1  "
      ]
     },
     "metadata": {},
     "output_type": "display_data"
    }
   ],
   "source": [
    "# Clean data\n",
    "\n",
    "cat_feat = df_compas.select_dtypes(\"O\").columns.tolist() # categorial data\n",
    "\n",
    "num_feat = df_compas.columns.difference(cat_feat+[\"Survived\"]).tolist() # numeric data\n",
    "\n",
    "print(\"categorical data:\")\n",
    "display(df_compas[cat_feat].head(2))\n",
    "\n",
    "\n",
    "print(\"numeric data:\")\n",
    "display(df_compas[num_feat].head(2))\n"
   ]
  },
  {
   "cell_type": "code",
   "execution_count": 7,
   "metadata": {},
   "outputs": [
    {
     "data": {
      "image/png": "[encoded data removed]",
      "text/plain": [
       "<Figure size 432x288 with 1 Axes>"
      ]
     },
     "metadata": {},
     "output_type": "display_data"
    }
   ],
   "source": [
    "ax = sns.histplot(data=df_compas, x=\"true_label\", stat=\"percent\", hue=\"race\", discrete=True, shrink=0.8)\n",
    "ax.set_title('Compare ratio of recidivism')\n",
    "ax.set_ylabel('Percent')\n",
    "plt.show()"
   ]
  },
  {
   "cell_type": "code",
   "execution_count": 64,
   "metadata": {},
   "outputs": [
    {
     "name": "stdout",
     "output_type": "stream",
     "text": [
      "Disparate impact on original dataset between sensitve groups of race 0.6011637964928835\n"
     ]
    },
    {
     "data": {
      "image/png": "[encoded data removed]",
      "text/plain": [
       "<Figure size 432x288 with 1 Axes>"
      ]
     },
     "metadata": {},
     "output_type": "display_data"
    }
   ],
   "source": [
    "per_white= ( (df_compas.loc[:,\"race\"]==\"Caucasian\") & (df_compas.loc[:,\"true_label\"]==1) ).sum()/(df_compas.loc[:,\"race\"]==\"Caucasian\").sum() # Positive prediction rate for the white\n",
    "per_black=( (df_compas.loc[:,\"race\"]==\"Non-caucasian\") & (df_compas.loc[:,\"true_label\"]==1) ).sum()/(df_compas.loc[:,\"race\"]==\"Non-caucasian\").sum() # Positive prediction rate for the non-white\n",
    "\n",
    "plt.bar(x=[\"White\", \"Non-white\"], height=[per_white, per_black])\n",
    "plt.ylabel(\"Recidivism(%)\")\n",
    "\n",
    "print(\"Disparate impact on original dataset between sensitve groups of race\", min(per_white/per_black, per_black/per_white))\n",
    "for x,per in [(0,per_white), (0.92, per_black)]:\n",
    "    plt.text(x,per+0.005, str(round(per,2)))\n",
    "\n",
    "# print(per_white, per_black)"
   ]
  },
  {
   "cell_type": "code",
   "execution_count": 61,
   "metadata": {},
   "outputs": [
    {
     "name": "stdout",
     "output_type": "stream",
     "text": [
      "Disparate impact on original dataset between sensitve groups male and female 0.8796764408493427\n"
     ]
    },
    {
     "data": {
      "image/png": "[encoded data removed]",
      "text/plain": [
       "<Figure size 432x288 with 1 Axes>"
      ]
     },
     "metadata": {},
     "output_type": "display_data"
    }
   ],
   "source": [
    "per_males= ( (df_compas.loc[:,\"gender\"]==\"Male\") & (df_compas.loc[:,\"true_label\"]==1) ).sum()/(df_compas.loc[:,\"gender\"]==\"Male\").sum() # Positive prediction rate for male\n",
    "per_females=( (df_compas.loc[:,\"gender\"]==\"Female\") & (df_compas.loc[:,\"true_label\"]==1) ).sum()/(df_compas.loc[:,\"gender\"]==\"Female\").sum() # Positive prediction rate for female\n",
    "\n",
    "plt.bar(x=[\"Male\", \"Female\"], height=[per_males, per_females])\n",
    "plt.ylabel(\"Recidivism(%)\")\n",
    "\n",
    "print(\"Disparate impact on original dataset between sensitve groups male and female\", min(per_males/per_females, per_females/per_males))\n",
    "\n",
    "for x,per in [(0,per_males), (0.92, per_females)]:\n",
    "    plt.text(x,per+0.005, str(round(per,2)))"
   ]
  },
  {
   "cell_type": "code",
   "execution_count": 48,
   "metadata": {},
   "outputs": [
    {
     "name": "stdout",
     "output_type": "stream",
     "text": [
      "0    Non-caucasian\n",
      "1    Non-caucasian\n",
      "2    Non-caucasian\n",
      "3    Non-caucasian\n",
      "4    Non-caucasian\n",
      "5        Caucasian\n",
      "6    Non-caucasian\n",
      "7    Non-caucasian\n",
      "8    Non-caucasian\n",
      "9    Non-caucasian\n",
      "Name: race, dtype: object    0\n",
      "0  1\n",
      "1  1\n",
      "2  1\n",
      "3  1\n",
      "4  1\n",
      "5  0\n",
      "6  1\n",
      "7  1\n",
      "8  1\n",
      "9  1\n"
     ]
    }
   ],
   "source": [
    "# Encoding for categorial feature\n",
    "\n",
    "from sklearn.preprocessing import OrdinalEncoder, LabelEncoder\n",
    "\n",
    "enc = OrdinalEncoder()\n",
    "cat_feat_train = [\"crime_level\", \"gender\"]\n",
    "X_feat_encoded = enc.fit_transform(df_compas[cat_feat_train])\n",
    "# print(df_compas[cat_feat_train][:10], pd.DataFrame(X_feat_encoded[:10]))\n",
    "\n",
    "num_feat_train = ['age', 'num_of_crimes']\n",
    "X_num = np.array(df_compas[num_feat_train])\n",
    "\n",
    "X = np.concatenate((X_feat_encoded, X_num), axis=1)\n",
    "\n",
    "y = np.array(df_compas['true_label'])\n",
    "\n",
    "s1 = np.array(LabelEncoder().fit_transform(df_compas['race'])) # Choose race as Sensitive features\n",
    "\n",
    "\n",
    "print(df_compas['race'][:10], pd.DataFrame(s1[:10]))\n",
    "\n",
    "\n",
    "# Scale dataset\n",
    "from sklearn.preprocessing import StandardScaler\n",
    "scaler = StandardScaler()\n",
    "data_std = scaler.fit_transform(X)"
   ]
  },
  {
   "cell_type": "code",
   "execution_count": null,
   "metadata": {},
   "outputs": [],
   "source": [
    "## Check quality of crowdsourced labels,"
   ]
  }
 ],
 "metadata": {
  "interpreter": {
   "hash": "df0893f56f349688326838aaeea0de204df53a132722cbd565e54b24a8fec5f6"
  },
  "kernelspec": {
   "display_name": "Python 3.8.0 64-bit",
   "language": "python",
   "name": "python3"
  },
  "language_info": {
   "codemirror_mode": {
    "name": "ipython",
    "version": 3
   },
   "file_extension": ".py",
   "mimetype": "text/x-python",
   "name": "python",
   "nbconvert_exporter": "python",
   "pygments_lexer": "ipython3",
   "version": "3.8.0"
  },
  "orig_nbformat": 4
 },
 "nbformat": 4,
 "nbformat_minor": 2
}
